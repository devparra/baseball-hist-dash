{
 "cells": [
  {
   "cell_type": "markdown",
   "metadata": {},
   "source": [
    "# Historical Baseball Dashboard"
   ]
  },
  {
   "cell_type": "markdown",
   "metadata": {},
   "source": [
    "### Written by Matthew Parra\n",
    "Original Date: November 2020\n",
    "\n",
    "Notebook Updated: June 2022\n",
    "\n",
    "Twitter: @cursesincode\n",
    "\n",
    "## This notebook and the application\n",
    "\n",
    "This notebook will be used to create methods for generating lists of teams based on era as well as lists of players based on era, year, and team. Additionally this notebook will be used to conduct basic analysis as a proof of concept for a dashboard that will analyze Major League Baseball data. In this notebook a baseballs teams win/loss performance as well as batting performance will be evaluated as well as compare two teams. Data will be retrieved from a SQLite database, calculations will be handled using Python and Pandas. All analysis will use the standard built-in methods of plotting data as a means of visualization.\n",
    "\n",
    "Plotly's Dash will be used when constructing the final application. Because of Plotly's ease of use and flexibility, any further analysis of teams and players that are needed or desired will be designed outside of this notebook. The application will be built using faculty.ai's Dash Bootstrap Components to aid in layout. Using historical MLB (Major League Baseball) data, the application will provide analysis for team and player statistics dating from the earliest years of baseball through the 2021 season.\n",
    "\n",
    "## Dependencies for the notebook\n",
    "\n",
    "- SQLite 3\n",
    "- Pandas\n",
    "\n",
    "## The Data\n",
    "\n",
    "The CSV Data used was retrieved from [Seanlahman.com](http://www.seanlahman.com/baseball-archive/statistics/). The CSV data is copyright 1996-2022 by Sean Lahman. The CSV data is licensed under a Creative Commons Attribution-ShareAlike 3.0 Unported License. For details see: [CreativeCommons](http://creativecommons.org/licenses/by-sa/3.0/). The SQLite Database Provided by Nat Dunn of [WebucatorTraining](https://github.com/WebucatorTraining/lahman-baseball-mysql). The SQLite Database is licensed under a Creative Commons Zero v1.0 Universal License. For details see: [Github Repository Licenses](https://docs.github.com/articles/licensing-a-repository/#disclaimer)"
   ]
  },
  {
   "cell_type": "code",
   "execution_count": 1,
   "metadata": {},
   "outputs": [],
   "source": [
    "# Import Numpy, Pandas, and SQLite libraries\n",
    "import sqlite3\n",
    "import pandas as pd\n",
    "import numpy as np"
   ]
  },
  {
   "cell_type": "markdown",
   "metadata": {},
   "source": [
    "## From CSV Data to SQL\n",
    "Using just the CSV data, while more complete, is much more difficult to query using purely Pandas. In some cases the team names had to be altered to their modern counterpart to better fit analysis and provide better continuity. Using SQL to query a SQLite database is speedier and requires less code to run. Using the CSV data, I updated the SQLite database provided by Nat Dunn using the data available in the core of Sean Lahman's CSV data. Using a combination of SQLAlchemy and the SQLite3 libraries to update the database was simple, although, I had to add columns as needed or omit/alter certain columns to make sure the CSV data had all the proper columns needed to fit the SQL database. For the most part, the process of updating the SQLite database looks like this:\n",
    "\n",
    "```python\n",
    "# SQLAlchemy engine and SQLite connection both pointed at the same database\n",
    "alch_engine = create_engine('sqlite:///lahmansbaseballdb.sqlite', echo=False)\n",
    "sqlite_con = sqlite3.connect('lahmansbaseballdb.sqlite')`\n",
    "\n",
    "# Query the current state of the SQLite database\n",
    "sql_teams = pd.read_sql_query(f'''SELECT * FROM teams ORDER BY yearID ASC;''',sqlite_con)\n",
    "# Validate the latest year in the SQL database, 2019\n",
    "sql_teams.yearID.max()\n",
    "# Create a Pandas Dataframe using the CSV files.\n",
    "teams_csv = pd.read_csv('./core/Teams.csv')\n",
    "# Validate the latest year in the CSV data, 2021\n",
    "teams_csv.yearID.max()\n",
    "# Identify differences in columns\n",
    "sql_teams.columns.difference(teams_csv.columns)\n",
    "\n",
    "# Make changes to the columns as needed ...\n",
    "\n",
    "# Select data, in this case data from 2020 and 2021 needed to be added\n",
    "teams_csv_data = teams_csv[teams_csv.yearID > 2019]\n",
    "\n",
    "# Use the Pandas to_sql function and the SQLAlchemy engine to update database\n",
    "with alch_engine.begin() as connection:\n",
    "    teams_csv_data.to_sql('teams', con=connection, if_exists='append', index=False)\n",
    "\n",
    "# New query using the SQLite connection to confirm changes, year should be 2021\n",
    "update_sql_teams = pd.read_sql_query(f'''SELECT * FROM teams ORDER BY yearID DESC;''',sqlite_con)\n",
    "update_sql_teams.yearID.max()\n",
    "```\n",
    "\n",
    "Although some tables updated without an issue some where more reluctant. The All-Star Full table required replacing rather than updating, the data in the SQL table was replaced by the up-to-date CSV data. A hand full of other tables where left alone either because there was either no new data or no data was available. The tables edited included: Teams, People, Batting, BattingPost, Fielding, FieldingPost, Pitching, PitchingPost, SeriesPost, Managers, HomeGames, and AllstarFull.\n",
    "\n",
    "### Start a SQLite3 connection to the database\n",
    "\n",
    "To get started evaluating the data, a connection to the SQLite database will be need."
   ]
  },
  {
   "cell_type": "code",
   "execution_count": 2,
   "metadata": {},
   "outputs": [],
   "source": [
    "sqlite_con = sqlite3.connect('lahmansbaseballdb.sqlite')"
   ]
  },
  {
   "cell_type": "markdown",
   "metadata": {},
   "source": [
    "A fullsize map of the database can be found on Nat Dunn's [GitHub](https://github.com/WebucatorTraining/lahman-baseball-mysql/blob/master/lahman-model.png)."
   ]
  },
  {
   "cell_type": "markdown",
   "metadata": {},
   "source": [
    "## Listing Teams in Given Era\n",
    "\n",
    "The history of Major League Baseball (MLB) can be broken into era's, each represents a period of significant change in MLB's history. Plotly Dash requires that dropdown lists use a key value list or rather a 'label' and value list. The following will provide functions that are necessary in dynamically creating a list of team names paired with their ID. I personally called the era prior to the Deadball Era (pre 1903 World Series) the Knickerbocker Era as this is the era and the name of the team that is hailed as the origin of baseball. To begin, we should look at the teams table in the database."
   ]
  },
  {
   "cell_type": "code",
   "execution_count": 3,
   "metadata": {},
   "outputs": [],
   "source": [
    "# Query the database for everything in the teams table\n",
    "teams_table = pd.read_sql_query('SELECT * FROM teams;',sqlite_con)"
   ]
  },
  {
   "cell_type": "markdown",
   "metadata": {},
   "source": [
    "We already know there will be a lot of data, so it would not be neccesary at this moment to just look at the info function of this dataframe. For now I am just curious about the column names so that I can conduct some exploratory analysis and identify the range of years the database spans and the names of all teams with their ID."
   ]
  },
  {
   "cell_type": "code",
   "execution_count": 4,
   "metadata": {},
   "outputs": [
    {
     "data": {
      "text/plain": [
       "Index(['ID', 'yearID', 'lgID', 'teamID', 'franchID', 'divID', 'div_ID',\n",
       "       'teamRank', 'G', 'Ghome', 'W', 'L', 'DivWin', 'WCWin', 'LgWin', 'WSWin',\n",
       "       'R', 'AB', 'H', '2B', '3B', 'HR', 'BB', 'SO', 'SB', 'CS', 'HBP', 'SF',\n",
       "       'RA', 'ER', 'ERA', 'CG', 'SHO', 'SV', 'IPouts', 'HA', 'HRA', 'BBA',\n",
       "       'SOA', 'E', 'DP', 'FP', 'name', 'park', 'attendance', 'BPF', 'PPF',\n",
       "       'teamIDBR', 'teamIDlahman45', 'teamIDretro'],\n",
       "      dtype='object')"
      ]
     },
     "execution_count": 4,
     "metadata": {},
     "output_type": "execute_result"
    }
   ],
   "source": [
    "# Take a look at columns\n",
    "teams_table.columns"
   ]
  },
  {
   "cell_type": "code",
   "execution_count": 5,
   "metadata": {},
   "outputs": [
    {
     "name": "stdout",
     "output_type": "stream",
     "text": [
      "MLB Baseball spans from 1871 to 2021, exactly 150 years.\n"
     ]
    }
   ],
   "source": [
    "# Investigate how far back the years go\n",
    "print(f'MLB Baseball spans from {teams_table.yearID.min()} to {teams_table.yearID.max()}, exactly {teams_table.yearID.max() - teams_table.yearID.min()} years.')"
   ]
  },
  {
   "cell_type": "markdown",
   "metadata": {},
   "source": [
    "Now that we have confirmed the database is up to date with the most complete season and the database goes as far back as 1871, lets take a quick look at how many teams have played in the 150 years of baseball."
   ]
  },
  {
   "cell_type": "code",
   "execution_count": 6,
   "metadata": {},
   "outputs": [],
   "source": [
    "# List all teams from all years\n",
    "all_teams = pd.read_sql_query('''SELECT DISTINCT team.teamID, team.name\n",
    "                                    FROM teams team\n",
    "                                    WHERE team.yearID >= 1871 AND team.yearID <= 2021\n",
    "                                    ORDER BY team.yearID ASC;''',sqlite_con)"
   ]
  },
  {
   "cell_type": "code",
   "execution_count": 7,
   "metadata": {},
   "outputs": [
    {
     "data": {
      "text/html": [
       "<div>\n",
       "<style scoped>\n",
       "    .dataframe tbody tr th:only-of-type {\n",
       "        vertical-align: middle;\n",
       "    }\n",
       "\n",
       "    .dataframe tbody tr th {\n",
       "        vertical-align: top;\n",
       "    }\n",
       "\n",
       "    .dataframe thead th {\n",
       "        text-align: right;\n",
       "    }\n",
       "</style>\n",
       "<table border=\"1\" class=\"dataframe\">\n",
       "  <thead>\n",
       "    <tr style=\"text-align: right;\">\n",
       "      <th></th>\n",
       "      <th>teamID</th>\n",
       "      <th>name</th>\n",
       "    </tr>\n",
       "  </thead>\n",
       "  <tbody>\n",
       "    <tr>\n",
       "      <th>0</th>\n",
       "      <td>BS1</td>\n",
       "      <td>Boston Red Stockings</td>\n",
       "    </tr>\n",
       "    <tr>\n",
       "      <th>1</th>\n",
       "      <td>CH1</td>\n",
       "      <td>Chicago White Stockings</td>\n",
       "    </tr>\n",
       "    <tr>\n",
       "      <th>2</th>\n",
       "      <td>CL1</td>\n",
       "      <td>Cleveland Forest Citys</td>\n",
       "    </tr>\n",
       "    <tr>\n",
       "      <th>3</th>\n",
       "      <td>FW1</td>\n",
       "      <td>Fort Wayne Kekiongas</td>\n",
       "    </tr>\n",
       "    <tr>\n",
       "      <th>4</th>\n",
       "      <td>NY2</td>\n",
       "      <td>New York Mutuals</td>\n",
       "    </tr>\n",
       "  </tbody>\n",
       "</table>\n",
       "</div>"
      ],
      "text/plain": [
       "  teamID                     name\n",
       "0    BS1     Boston Red Stockings\n",
       "1    CH1  Chicago White Stockings\n",
       "2    CL1   Cleveland Forest Citys\n",
       "3    FW1     Fort Wayne Kekiongas\n",
       "4    NY2         New York Mutuals"
      ]
     },
     "execution_count": 7,
     "metadata": {},
     "output_type": "execute_result"
    }
   ],
   "source": [
    "# Take a look at the top 5 in the list\n",
    "all_teams.head()"
   ]
  },
  {
   "cell_type": "code",
   "execution_count": 8,
   "metadata": {},
   "outputs": [
    {
     "data": {
      "text/plain": [
       "183"
      ]
     },
     "execution_count": 8,
     "metadata": {},
     "output_type": "execute_result"
    }
   ],
   "source": [
    "# Count the number of teams\n",
    "all_teams.name.count()"
   ]
  },
  {
   "cell_type": "markdown",
   "metadata": {},
   "source": [
    "Over the century and a half that baseball has been played we can see that there have been 183 teams that have come and gone, some whom have stood through the test of time and have become pillars in this great sport. Next we will need to create lists of teams based on ranges of years. Because each era will have a set of years associated we can dynamically generate lists of teams with their ID within each selected range."
   ]
  },
  {
   "cell_type": "code",
   "execution_count": 9,
   "metadata": {},
   "outputs": [],
   "source": [
    "# Hard coded list of era's to be used with the Dash app\n",
    "era_list = [{'label': 'Statcast (\\'16-\\'21)','value': 'Statcast'},\n",
    "            {'label': 'Post-Steroid (\\'06-\\'15)','value': 'Post-Steroid'},\n",
    "            {'label': 'Steroid (\\'94-\\'05)','value': 'Steroid'},\n",
    "            {'label': 'Free Agency (\\'77-\\'93)','value': 'Free Agency'},\n",
    "            {'label': 'Expantion (\\'61-\\'76)','value': 'Expantion'},\n",
    "            {'label': 'Integration (\\'42-\\'60)','value': 'Integration'},\n",
    "            {'label': 'Live Ball (\\'20-\\'41)','value': 'Live Ball'},\n",
    "            {'label': 'Dead Ball (\\'03-\\'19)','value': 'Dead Ball'},\n",
    "            {'label': 'Knickerbocker (\\'71-\\'02)','value': 'Knickerbocker'},]\n",
    "\n",
    "# list of of years spanning each era\n",
    "era_time = [(2016,2021),\n",
    "            (2006,2015),\n",
    "            (1994,2005),\n",
    "            (1977,1993),\n",
    "            (1961,1976),\n",
    "            (1942,1960),\n",
    "            (1920,1941),\n",
    "            (1903,1919),\n",
    "            (1871,1902)]\n",
    "\n",
    "# Creates a dynamic list of team names based on era\n",
    "def dynamicteams(x):\n",
    "    # Hardcoded list of era time spans, wouldnt do it this way if the set where larger\n",
    "    global era_time\n",
    "    \n",
    "    # No assertion for the variable X is needed\n",
    "    # The need to hanel database errors might be needed\n",
    "    \n",
    "    # create a filter list of team names and ids\n",
    "    filter_team_ids = pd.read_sql_query(f'''SELECT DISTINCT team.teamID, team.name\n",
    "                                        FROM teams team\n",
    "                                        WHERE team.yearID >= {era_time[x][0]} AND team.yearID <= {era_time[x][1]}\n",
    "                                        ORDER BY team.yearID ASC;''',sqlite_con)\n",
    "    # list comp of key value pair\n",
    "    return [{'label': k, 'value': v }for k, v in zip(filter_team_ids['name'], filter_team_ids['teamID'])]"
   ]
  },
  {
   "cell_type": "markdown",
   "metadata": {},
   "source": [
    "### List team by ERA"
   ]
  },
  {
   "cell_type": "code",
   "execution_count": 10,
   "metadata": {},
   "outputs": [
    {
     "data": {
      "text/plain": [
       "{'label': \"Statcast ('16-'21)\", 'value': 'Statcast'}"
      ]
     },
     "execution_count": 10,
     "metadata": {},
     "output_type": "execute_result"
    }
   ],
   "source": [
    "# Select era from list above, in this case the Statcast Era (current era)\n",
    "era_select = 0\n",
    "era_list[era_select]"
   ]
  },
  {
   "cell_type": "code",
   "execution_count": 11,
   "metadata": {},
   "outputs": [
    {
     "data": {
      "text/plain": [
       "[{'label': 'Baltimore Orioles', 'value': 'BAL'},\n",
       " {'label': 'Boston Red Sox', 'value': 'BOS'},\n",
       " {'label': 'Chicago White Sox', 'value': 'CHA'},\n",
       " {'label': 'Cleveland Indians', 'value': 'CLE'},\n",
       " {'label': 'Detroit Tigers', 'value': 'DET'},\n",
       " {'label': 'Houston Astros', 'value': 'HOU'},\n",
       " {'label': 'Kansas City Royals', 'value': 'KCA'},\n",
       " {'label': 'Los Angeles Angels of Anaheim', 'value': 'LAA'},\n",
       " {'label': 'Minnesota Twins', 'value': 'MIN'},\n",
       " {'label': 'New York Yankees', 'value': 'NYA'},\n",
       " {'label': 'Oakland Athletics', 'value': 'OAK'},\n",
       " {'label': 'Seattle Mariners', 'value': 'SEA'},\n",
       " {'label': 'Tampa Bay Rays', 'value': 'TBA'},\n",
       " {'label': 'Texas Rangers', 'value': 'TEX'},\n",
       " {'label': 'Toronto Blue Jays', 'value': 'TOR'},\n",
       " {'label': 'Arizona Diamondbacks', 'value': 'ARI'},\n",
       " {'label': 'Atlanta Braves', 'value': 'ATL'},\n",
       " {'label': 'Chicago Cubs', 'value': 'CHN'},\n",
       " {'label': 'Cincinnati Reds', 'value': 'CIN'},\n",
       " {'label': 'Colorado Rockies', 'value': 'COL'},\n",
       " {'label': 'Los Angeles Dodgers', 'value': 'LAN'},\n",
       " {'label': 'Miami Marlins', 'value': 'MIA'},\n",
       " {'label': 'Milwaukee Brewers', 'value': 'MIL'},\n",
       " {'label': 'New York Mets', 'value': 'NYN'},\n",
       " {'label': 'Philadelphia Phillies', 'value': 'PHI'},\n",
       " {'label': 'Pittsburgh Pirates', 'value': 'PIT'},\n",
       " {'label': 'San Diego Padres', 'value': 'SDN'},\n",
       " {'label': 'San Francisco Giants', 'value': 'SFN'},\n",
       " {'label': 'St. Louis Cardinals', 'value': 'SLN'},\n",
       " {'label': 'Washington Nationals', 'value': 'WAS'}]"
      ]
     },
     "execution_count": 11,
     "metadata": {},
     "output_type": "execute_result"
    }
   ],
   "source": [
    "# Display list of teams\n",
    "dynamicteams(era_select)"
   ]
  },
  {
   "cell_type": "markdown",
   "metadata": {},
   "source": [
    "### Select ERA from List"
   ]
  },
  {
   "cell_type": "code",
   "execution_count": 12,
   "metadata": {},
   "outputs": [
    {
     "data": {
      "text/plain": [
       "{'label': 'Oakland Athletics', 'value': 'OAK'}"
      ]
     },
     "execution_count": 12,
     "metadata": {},
     "output_type": "execute_result"
    }
   ],
   "source": [
    "# Set list of teams to be chosen from\n",
    "team_list = dynamicteams(era_select)\n",
    "# Team is selected from a dropdown list using Dash\n",
    "# OAKLAND ATHLETICS\n",
    "team = team_list[10]\n",
    "team"
   ]
  },
  {
   "cell_type": "markdown",
   "metadata": {},
   "source": [
    "### Get team information\n",
    "\n",
    "Now that we have obtained a list of teams based on a given era (modern Statcast) and selected the Oakland Athletics, we can query the database for basic information about the team."
   ]
  },
  {
   "cell_type": "code",
   "execution_count": 13,
   "metadata": {},
   "outputs": [],
   "source": [
    "# Team championship list and datatable\n",
    "# team.get('value') is only used here, Dash will have its own way of selecting team in callback\n",
    "team_info = pd.read_sql_query(f'''SELECT \n",
    "                                    team.yearID, team.name, team.lgID, team.divID,\n",
    "                                    team.park, team.attendance, \n",
    "                                    team.Ghome, team.DivWin, \n",
    "                                    team.WCWin, team.LgWin, team.WSWin\n",
    "                                FROM teams team\n",
    "                                WHERE team.teamID = '{team.get('value')}' \n",
    "                                    AND team.yearID >= {era_time[era_select][0]} \n",
    "                                    AND team.yearID <= {era_time[era_select][1]}\n",
    "                                ORDER BY team.yearID ASC;''',sqlite_con)"
   ]
  },
  {
   "cell_type": "code",
   "execution_count": 14,
   "metadata": {},
   "outputs": [
    {
     "name": "stdout",
     "output_type": "stream",
     "text": [
      "League: AL\n",
      "Division: W\n",
      "Park Name(s): O.co Coliseum\n",
      "Avg. Home Attendence: 14268.0\n",
      "WC Series Wins:  2\n",
      "Div Series Wins:  1\n",
      "Lg Series Wins:  0\n",
      "World Series Wins:  0\n"
     ]
    }
   ],
   "source": [
    "# Basic team information\n",
    "print('League:', *team_info.lgID.unique())\n",
    "print('Division:', *team_info.divID.unique())\n",
    "print('Park Name(s):', *team_info.park.unique())\n",
    "# Avgerage Home Attendence\n",
    "print('Avg. Home Attendence:', (sum(team_info.attendance/team_info.Ghome)/team_info.yearID.count()).round())\n",
    "# Post-Season accomplishments\n",
    "print('WC Series Wins: ', team_info[team_info.WCWin == 'Y']['WCWin'].count())\n",
    "print('Div Series Wins: ', team_info[team_info.DivWin == 'Y']['DivWin'].count())\n",
    "print('Lg Series Wins: ', team_info[team_info.LgWin == 'Y']['LgWin'].count())\n",
    "print('World Series Wins: ', team_info[team_info.WSWin == 'Y']['WSWin'].count())"
   ]
  },
  {
   "cell_type": "markdown",
   "metadata": {},
   "source": [
    "## Team Analysis\n",
    "\n",
    "Each team's performance is analyzed for Wins and Losses, Batting, Fielding, and Pitching. To keep this notebook brief we will only look at a couple queries. Lets look at the Oakland Athletics Win-Loss record over the Statcast Era as well as their batting performance."
   ]
  },
  {
   "cell_type": "code",
   "execution_count": 15,
   "metadata": {},
   "outputs": [],
   "source": [
    "team_winloss = pd.read_sql_query(f'''SELECT team.yearID, team.teamID, team.W, team.L\n",
    "                                FROM teams team\n",
    "                                WHERE team.teamID = '{team.get('value')}' \n",
    "                                    AND team.yearID >= {era_time[era_select][0]} \n",
    "                                    AND team.yearID <= {era_time[era_select][1]}\n",
    "                                ORDER BY team.yearID ASC;''',sqlite_con)"
   ]
  },
  {
   "cell_type": "code",
   "execution_count": 16,
   "metadata": {},
   "outputs": [
    {
     "data": {
      "text/plain": [
       "<AxesSubplot:title={'center':'Oakland Athletics Win/Loss'}, xlabel='yearID'>"
      ]
     },
     "execution_count": 16,
     "metadata": {},
     "output_type": "execute_result"
    },
    {
     "data": {
      "image/png": "[encoded data removed]",
      "text/plain": [
       "<Figure size 432x288 with 1 Axes>"
      ]
     },
     "metadata": {
      "needs_background": "light"
     },
     "output_type": "display_data"
    }
   ],
   "source": [
    "team_winloss[team_winloss.teamID == team.get('value')].plot.bar(x='yearID',y=['W','L'],title=team.get('label') + ' Win/Loss',rot=75)"
   ]
  },
  {
   "cell_type": "code",
   "execution_count": 17,
   "metadata": {},
   "outputs": [],
   "source": [
    "team_batting = pd.read_sql_query(f'''SELECT team.yearID, team.teamID, team.AB, team.H, team.SO, team.BB, team.HR, team.'2B', team.'3B', team.HBP, team.SF\n",
    "                                FROM teams team\n",
    "                                WHERE team.teamID = '{team.get('value')}' \n",
    "                                    AND team.yearID >= {era_time[era_select][0]} \n",
    "                                    AND team.yearID <= {era_time[era_select][1]}\n",
    "                                ORDER BY team.yearID ASC;''',sqlite_con)"
   ]
  },
  {
   "cell_type": "code",
   "execution_count": 18,
   "metadata": {},
   "outputs": [
    {
     "data": {
      "image/png": "[encoded data removed]",
      "text/plain": [
       "<Figure size 432x288 with 1 Axes>"
      ]
     },
     "metadata": {
      "needs_background": "light"
     },
     "output_type": "display_data"
    }
   ],
   "source": [
    "# import matplot lib to plot multiple graphs\n",
    "import matplotlib.pyplot as plt\n",
    "# set axis\n",
    "ax = plt.gca()\n",
    "\n",
    "# Using the filterd data from above, Live Ball Era\n",
    "YR = team_batting[team_batting.teamID == team.get('value')].yearID\n",
    "AB = team_batting[team_batting.teamID == team.get('value')].AB\n",
    "Ht = team_batting[team_batting.teamID == team.get('value')].H\n",
    "SO = team_batting[team_batting.teamID == team.get('value')].SO\n",
    "BB = team_batting[team_batting.teamID == team.get('value')].BB\n",
    "HR = team_batting[team_batting.teamID == team.get('value')].HR\n",
    "Db = team_batting[team_batting.teamID == team.get('value')]['2B']\n",
    "Tr = team_batting[team_batting.teamID == team.get('value')]['3B']\n",
    "HBP = team_batting[team_batting.teamID == team.get('value')].HBP\n",
    "SF = team_batting[team_batting.teamID == team.get('value')].SF\n",
    "# Calculate singles\n",
    "Sg = Ht - Db - Tr - HR\n",
    "\n",
    "# Calculate Slugging average\n",
    "SLG = (Sg + 2*Db + 3*Tr + 4*HR)/AB\n",
    "# On-Base Percentage\n",
    "OBP = (Ht + BB + HBP) / (AB + BB + HBP + SF)\n",
    "# Calculate Batting Average Balls In Play (BABIP)\n",
    "BABIP = (Ht - HR) / (AB - SO - HR)\n",
    "\n",
    "# Set graph data\n",
    "Data = {'YR': YR,\n",
    "        'BABIP': BABIP,\n",
    "        'SLG': SLG,\n",
    "        'OBP': OBP}\n",
    "\n",
    "# set new dataframe for graph\n",
    "df = pd.DataFrame(Data,columns=['YR','BABIP','BAVG','SLG','OBP'])\n",
    "# Apply new dataframe (filtered and calculated data using 'Live Ball' era data)\n",
    "df.plot.scatter(x='YR', y='BABIP',ax=ax,color='green')\n",
    "df.plot.scatter(x='YR', y='OBP',ax=ax,color='blue', title=team.get('label'))\n",
    "df.plot.scatter(x='YR', y='SLG',ax=ax,color='orange')\n",
    "plt.show()"
   ]
  },
  {
   "cell_type": "markdown",
   "metadata": {},
   "source": [
    "Looking at the most recent seasons, we see from the win-loss chart, the Athletics have improved their performance while according to the batting performance, they have declined in the past couple years. Perhaps the management had made a trade-off between pitching and hitting. Further analysis would have to be done to make any kind of conclusion. For now we can be sure that our migration to a SQLite database has allowed us to speed up our data retrieval and allow us to focus on analysis over data manipulation. Next lets take a look at comparing two teams."
   ]
  },
  {
   "cell_type": "markdown",
   "metadata": {},
   "source": [
    "### Compare two teams"
   ]
  },
  {
   "cell_type": "code",
   "execution_count": 19,
   "metadata": {},
   "outputs": [],
   "source": [
    "# Select two teams\n",
    "teamA = team_list[20]\n",
    "teamB = team_list[10]"
   ]
  },
  {
   "cell_type": "code",
   "execution_count": 20,
   "metadata": {},
   "outputs": [
    {
     "data": {
      "text/plain": [
       "{'label': 'Los Angeles Dodgers', 'value': 'LAN'}"
      ]
     },
     "execution_count": 20,
     "metadata": {},
     "output_type": "execute_result"
    }
   ],
   "source": [
    "teamA"
   ]
  },
  {
   "cell_type": "code",
   "execution_count": 21,
   "metadata": {},
   "outputs": [
    {
     "data": {
      "text/plain": [
       "{'label': 'Oakland Athletics', 'value': 'OAK'}"
      ]
     },
     "execution_count": 21,
     "metadata": {},
     "output_type": "execute_result"
    }
   ],
   "source": [
    "teamB"
   ]
  },
  {
   "cell_type": "code",
   "execution_count": 22,
   "metadata": {},
   "outputs": [],
   "source": [
    "# Query the database for team data\n",
    "teamA_winloss = pd.read_sql_query(f'''SELECT team.yearID, team.teamID, team.W, team.L\n",
    "                                FROM teams team\n",
    "                                WHERE team.teamID = '{teamA.get('value')}' AND team.yearID >= {era_time[era_select][0]} AND team.yearID <= {era_time[era_select][1]}\n",
    "                                ORDER BY team.yearID ASC;''',sqlite_con)\n",
    "teamB_winloss = pd.read_sql_query(f'''SELECT team.yearID, team.teamID, team.W, team.L\n",
    "                                FROM teams team\n",
    "                                WHERE team.teamID = '{teamB.get('value')}' AND team.yearID >= {era_time[era_select][0]} AND team.yearID <= {era_time[era_select][1]}\n",
    "                                ORDER BY team.yearID ASC;''',sqlite_con)"
   ]
  },
  {
   "cell_type": "code",
   "execution_count": 23,
   "metadata": {},
   "outputs": [],
   "source": [
    "# Calculate the Average Winning Percentage\n",
    "AwPCT = teamA_winloss.W / (teamA_winloss.W + teamA_winloss.L)\n",
    "BwPCT = teamB_winloss.W / (teamB_winloss.W + teamB_winloss.L)"
   ]
  },
  {
   "cell_type": "code",
   "execution_count": 24,
   "metadata": {},
   "outputs": [],
   "source": [
    "# Create an Average Winning Percentage dictionary\n",
    "AwData = {'Year': teamA_winloss.yearID,\n",
    "        teamA.get('label'): AwPCT,\n",
    "        teamB.get('label'): BwPCT}\n",
    "\n",
    "# Create dataframe from dictionary for graph\n",
    "Aw_df = pd.DataFrame(AwData,columns=['Year',teamA.get('label'),teamB.get('label')])"
   ]
  },
  {
   "cell_type": "code",
   "execution_count": 25,
   "metadata": {},
   "outputs": [
    {
     "data": {
      "text/plain": [
       "<AxesSubplot:xlabel='Year'>"
      ]
     },
     "execution_count": 25,
     "metadata": {},
     "output_type": "execute_result"
    },
    {
     "data": {
      "image/png": "[encoded data removed]",
      "text/plain": [
       "<Figure size 432x288 with 1 Axes>"
      ]
     },
     "metadata": {
      "needs_background": "light"
     },
     "output_type": "display_data"
    }
   ],
   "source": [
    "# Plot the Average Winning Percentage of both teams\n",
    "ax2 = plt.gca()\n",
    "Aw_df.plot.line(x='Year', y=teamA.get('label'),ax=ax2,color='orange')\n",
    "Aw_df.plot.line(x='Year', y=teamB.get('label'),ax=ax2,color='blue')"
   ]
  },
  {
   "cell_type": "markdown",
   "metadata": {},
   "source": [
    "We can see, compared to the Los Angeles Dodgers, the Oakland Athletics continued to work towards improving its performance although they have fallen short with the exception of the 2018 season. Comparing teams will allow us to see how trades and player performances have affected a team over the years. Teams can be compared using various calculations such as their On-Base Plus Slugging average or their Strike-out to Walk ratio or even the more advanced Technical Runs Created. To further the analysis of a given team, taking a look at individual player performance will give us the information we need to understand individual player contributions to a teams performance."
   ]
  },
  {
   "cell_type": "markdown",
   "metadata": {},
   "source": [
    "## Player Analysis\n",
    "\n",
    "While the available teams and their statistics are based on era, available players are provided based on the selected team and year within the given era. The players career data is limited to the given year within the selected era and the beginning of the era. Limiting the player data will provide us with better context to a teams performance through the Era. Players full careers will be evaluated in a separate section of the application. This analysis, however, provides us with an idea of how individual player analysis will be conducted. Analysis consists of Batting and Fielding\\Pitching performance other career data such as salaries and accolades may be added as data is available."
   ]
  },
  {
   "cell_type": "code",
   "execution_count": 26,
   "metadata": {},
   "outputs": [
    {
     "data": {
      "text/plain": [
       "{'label': \"Statcast ('16-'21)\", 'value': 'Statcast'}"
      ]
     },
     "execution_count": 26,
     "metadata": {},
     "output_type": "execute_result"
    }
   ],
   "source": [
    "# Era list, the same as earlier\n",
    "# Using a new list here only to ensure nothing is confused\n",
    "player_era_list = [{'label': 'Statcast (\\'16-\\'21)','value': 'Statcast'},\n",
    "            {'label': 'Post-Steroid (\\'06-\\'15)','value': 'Post-Steroid'},\n",
    "            {'label': 'Steroid (\\'94-\\'05)','value': 'Steroid'},\n",
    "            {'label': 'Free Agency (\\'77-\\'93)','value': 'Free Agency'},\n",
    "            {'label': 'Expantion (\\'61-\\'76)','value': 'Expantion'},\n",
    "            {'label': 'Integration (\\'42-\\'60)','value': 'Integration'},\n",
    "            {'label': 'Live Ball (\\'20-\\'41)','value': 'Live Ball'},\n",
    "            {'label': 'Dead Ball (\\'00-\\'19)','value': 'Dead Ball'},\n",
    "            {'label': 'Knickerbocker (\\'71-\\'99)','value': 'Knickerbocker'},]\n",
    "\n",
    "# Select Era\n",
    "player_era_select = 0\n",
    "player_era_list[player_era_select]"
   ]
  },
  {
   "cell_type": "code",
   "execution_count": 27,
   "metadata": {},
   "outputs": [
    {
     "data": {
      "text/plain": [
       "[{'label': 'Baltimore Orioles', 'value': 'BAL'},\n",
       " {'label': 'Boston Red Sox', 'value': 'BOS'},\n",
       " {'label': 'Chicago White Sox', 'value': 'CHA'},\n",
       " {'label': 'Cleveland Indians', 'value': 'CLE'},\n",
       " {'label': 'Detroit Tigers', 'value': 'DET'},\n",
       " {'label': 'Houston Astros', 'value': 'HOU'},\n",
       " {'label': 'Kansas City Royals', 'value': 'KCA'},\n",
       " {'label': 'Los Angeles Angels of Anaheim', 'value': 'LAA'},\n",
       " {'label': 'Minnesota Twins', 'value': 'MIN'},\n",
       " {'label': 'New York Yankees', 'value': 'NYA'},\n",
       " {'label': 'Oakland Athletics', 'value': 'OAK'},\n",
       " {'label': 'Seattle Mariners', 'value': 'SEA'},\n",
       " {'label': 'Tampa Bay Rays', 'value': 'TBA'},\n",
       " {'label': 'Texas Rangers', 'value': 'TEX'},\n",
       " {'label': 'Toronto Blue Jays', 'value': 'TOR'},\n",
       " {'label': 'Arizona Diamondbacks', 'value': 'ARI'},\n",
       " {'label': 'Atlanta Braves', 'value': 'ATL'},\n",
       " {'label': 'Chicago Cubs', 'value': 'CHN'},\n",
       " {'label': 'Cincinnati Reds', 'value': 'CIN'},\n",
       " {'label': 'Colorado Rockies', 'value': 'COL'},\n",
       " {'label': 'Los Angeles Dodgers', 'value': 'LAN'},\n",
       " {'label': 'Miami Marlins', 'value': 'MIA'},\n",
       " {'label': 'Milwaukee Brewers', 'value': 'MIL'},\n",
       " {'label': 'New York Mets', 'value': 'NYN'},\n",
       " {'label': 'Philadelphia Phillies', 'value': 'PHI'},\n",
       " {'label': 'Pittsburgh Pirates', 'value': 'PIT'},\n",
       " {'label': 'San Diego Padres', 'value': 'SDN'},\n",
       " {'label': 'San Francisco Giants', 'value': 'SFN'},\n",
       " {'label': 'St. Louis Cardinals', 'value': 'SLN'},\n",
       " {'label': 'Washington Nationals', 'value': 'WAS'}]"
      ]
     },
     "execution_count": 27,
     "metadata": {},
     "output_type": "execute_result"
    }
   ],
   "source": [
    "# List of teams from the selected era, reusing the same function as earlier\n",
    "dynamicteams(player_era_select)"
   ]
  },
  {
   "cell_type": "code",
   "execution_count": 28,
   "metadata": {},
   "outputs": [],
   "source": [
    "# Set team list\n",
    "player_team_list = dynamicteams(player_era_select)"
   ]
  },
  {
   "cell_type": "code",
   "execution_count": 29,
   "metadata": {},
   "outputs": [
    {
     "data": {
      "text/plain": [
       "{'label': 'Los Angeles Dodgers', 'value': 'LAN'}"
      ]
     },
     "execution_count": 29,
     "metadata": {},
     "output_type": "execute_result"
    }
   ],
   "source": [
    "# Select team, LOS ANGELES DODGERS selected\n",
    "player_team = player_team_list[20]\n",
    "player_team"
   ]
  },
  {
   "cell_type": "markdown",
   "metadata": {},
   "source": [
    "Now that the era and team have been selected the teams roster needs to be generated. In the past I generated the roster from here, however, that required the user to poor through a huge list of names. Here I have created functions similar to how the team list is created. So that the user can select from a shorter list, they will have to first select a year from within the selected era to determine which roster is presented."
   ]
  },
  {
   "cell_type": "code",
   "execution_count": 30,
   "metadata": {},
   "outputs": [],
   "source": [
    "# Creates a dynamic list of years based on era\n",
    "def dynamicyears(x):\n",
    "    # Hardcoded list of era time spans, wouldnt do it this way if the set where larger\n",
    "    global era_time\n",
    "    \n",
    "    # create a filter list of team names and ids\n",
    "    year_list = [i for i in np.arange(era_time[x][0],era_time[x][1]+1)]\n",
    "\n",
    "    # list comp of key value pair\n",
    "    return [{'label': k, 'value': v }for k, v in zip(year_list, year_list)]"
   ]
  },
  {
   "cell_type": "code",
   "execution_count": 31,
   "metadata": {},
   "outputs": [
    {
     "data": {
      "text/plain": [
       "[{'label': 2016, 'value': 2016},\n",
       " {'label': 2017, 'value': 2017},\n",
       " {'label': 2018, 'value': 2018},\n",
       " {'label': 2019, 'value': 2019},\n",
       " {'label': 2020, 'value': 2020},\n",
       " {'label': 2021, 'value': 2021}]"
      ]
     },
     "execution_count": 31,
     "metadata": {},
     "output_type": "execute_result"
    }
   ],
   "source": [
    "# List of years based on selected era\n",
    "dynamicyears(player_era_select)"
   ]
  },
  {
   "cell_type": "code",
   "execution_count": 32,
   "metadata": {},
   "outputs": [],
   "source": [
    "# Set list of years\n",
    "player_year_list = dynamicyears(player_era_select)"
   ]
  },
  {
   "cell_type": "code",
   "execution_count": 33,
   "metadata": {},
   "outputs": [
    {
     "data": {
      "text/plain": [
       "{'label': 2021, 'value': 2021}"
      ]
     },
     "execution_count": 33,
     "metadata": {},
     "output_type": "execute_result"
    }
   ],
   "source": [
    "# Select year from list, 2021 selected\n",
    "player_year_select = 5\n",
    "player_year = player_year_list[player_year_select]\n",
    "player_year"
   ]
  },
  {
   "cell_type": "code",
   "execution_count": 34,
   "metadata": {},
   "outputs": [],
   "source": [
    "# create a function to dynamicaly create a list of players based on team and year\n",
    "def dynamicplayers(team,year):\n",
    "    # query database for players name and id\n",
    "    player_list = pd.read_sql_query(f'''SELECT batter.playerID, player.nameFirst || ' ' || player.nameLast AS playerName\n",
    "                                FROM batting batter\n",
    "                                    LEFT JOIN people player ON player.playerID = batter.playerID\n",
    "                                WHERE batter.teamID = '{team.get('value')}' \n",
    "                                    AND batter.yearID = {year.get('value')}\n",
    "                                ORDER BY batter.playerID ASC;''',sqlite_con)\n",
    "    # Return key value list of players names with id\n",
    "    return [{'label': k, 'value': v }for k, v in zip(player_list.playerName, player_list.playerID)]"
   ]
  },
  {
   "cell_type": "code",
   "execution_count": 35,
   "metadata": {},
   "outputs": [
    {
     "data": {
      "text/plain": [
       "[{'label': 'Scott Alexander', 'value': 'alexasc01'},\n",
       " {'label': 'Austin Barnes', 'value': 'barneau01'},\n",
       " {'label': 'Trevor Bauer', 'value': 'bauertr01'},\n",
       " {'label': 'Matt Beaty', 'value': 'beatyma01'},\n",
       " {'label': 'Cody Bellinger', 'value': 'bellico01'},\n",
       " {'label': 'Mookie Betts', 'value': 'bettsmo01'},\n",
       " {'label': 'Phil Bickford', 'value': 'bickfph01'},\n",
       " {'label': 'Justin Bruihl', 'value': 'bruihju01'},\n",
       " {'label': 'Walker Buehler', 'value': 'buehlwa01'},\n",
       " {'label': 'Andy Burns', 'value': 'burnsan01'},\n",
       " {'label': 'Garrett Cleavinger', 'value': 'cleavga01'},\n",
       " {'label': 'Neftali Feliz', 'value': 'felizne01'},\n",
       " {'label': 'Tony Gonsolin', 'value': 'gonsoto01'},\n",
       " {'label': 'Victor Gonzalez', 'value': 'gonzavi02'},\n",
       " {'label': 'Brusdar Graterol', 'value': 'gratebr01'},\n",
       " {'label': 'Josiah Gray', 'value': 'grayjo03'},\n",
       " {'label': 'Conner Greene', 'value': 'greenco01'},\n",
       " {'label': 'Shane Greene', 'value': 'greensh02'},\n",
       " {'label': 'Andre Jackson', 'value': 'jacksan01'},\n",
       " {'label': 'Kenley Jansen', 'value': 'janseke01'},\n",
       " {'label': 'Nate Jones', 'value': 'jonesna01'},\n",
       " {'label': 'Joe Kelly', 'value': 'kellyjo05'},\n",
       " {'label': 'Clayton Kershaw', 'value': 'kershcl01'},\n",
       " {'label': 'Mike Kickham', 'value': 'kickhmi01'},\n",
       " {'label': 'Corey Knebel', 'value': 'knebeco01'},\n",
       " {'label': 'Gavin Lux', 'value': 'luxga01'},\n",
       " {'label': 'Dustin May', 'value': 'maydu01'},\n",
       " {'label': 'Billy McKinney', 'value': 'mckinbi01'},\n",
       " {'label': 'Zach McKinstry', 'value': 'mckinza01'},\n",
       " {'label': 'Max Muncy', 'value': 'muncyma01'},\n",
       " {'label': 'Jimmy Nelson', 'value': 'nelsoji02'},\n",
       " {'label': 'Sheldon Neuse', 'value': 'neusesh01'},\n",
       " {'label': 'Darien Nunez', 'value': 'nunezda01'},\n",
       " {'label': 'DJ Peters', 'value': 'peterdj01'},\n",
       " {'label': 'Evan Phillips', 'value': 'phillev01'},\n",
       " {'label': 'A. J. Pollock', 'value': 'polloaj01'},\n",
       " {'label': 'David Price', 'value': 'priceda01'},\n",
       " {'label': 'Albert Pujols', 'value': 'pujolal01'},\n",
       " {'label': 'Kevin Quackenbush', 'value': 'quackke01'},\n",
       " {'label': 'Luke Raley', 'value': 'raleylu01'},\n",
       " {'label': 'Yefry Ramirez', 'value': 'ramirye01'},\n",
       " {'label': 'Jake Reed', 'value': 'reedja02'},\n",
       " {'label': 'Zach Reks', 'value': 'reksza01'},\n",
       " {'label': 'Edwin Rios', 'value': 'riosed01'},\n",
       " {'label': 'Keibert Ruiz', 'value': 'ruizke01'},\n",
       " {'label': 'Dennis Santana', 'value': 'santade01'},\n",
       " {'label': 'Max Scherzer', 'value': 'scherma01'},\n",
       " {'label': 'Corey Seager', 'value': 'seageco01'},\n",
       " {'label': 'Jimmie Sherfy', 'value': 'sherfji01'},\n",
       " {'label': 'Will Smith', 'value': 'smithwi05'},\n",
       " {'label': 'Steven Souza', 'value': 'souzast01'},\n",
       " {'label': 'Chris Taylor', 'value': 'tayloch03'},\n",
       " {'label': 'Blake Treinen', 'value': 'treinbl01'},\n",
       " {'label': 'Yoshi Tsutsugo', 'value': 'tsutsyo01'},\n",
       " {'label': 'Justin Turner', 'value': 'turneju01'},\n",
       " {'label': 'Trea Turner', 'value': 'turnetr01'},\n",
       " {'label': 'Edwin Uceta', 'value': 'ucetaed01'},\n",
       " {'label': 'Julio Urias', 'value': 'uriasju01'},\n",
       " {'label': 'Andrew Vasquez', 'value': 'vasquan02'},\n",
       " {'label': 'Alex Vesia', 'value': 'vesiaal01'},\n",
       " {'label': 'Mitch White', 'value': 'whitemi03'}]"
      ]
     },
     "execution_count": 35,
     "metadata": {},
     "output_type": "execute_result"
    }
   ],
   "source": [
    "# List players from the 2021 Houston Astros\n",
    "dynamicplayers(player_team,player_year)"
   ]
  },
  {
   "cell_type": "code",
   "execution_count": 36,
   "metadata": {},
   "outputs": [],
   "source": [
    "# Set roster of players from 2021 Houston Astros\n",
    "player_roster = dynamicplayers(player_team,player_year)"
   ]
  },
  {
   "cell_type": "code",
   "execution_count": 37,
   "metadata": {},
   "outputs": [
    {
     "data": {
      "text/plain": [
       "{'label': 'Mookie Betts', 'value': 'bettsmo01'}"
      ]
     },
     "execution_count": 37,
     "metadata": {},
     "output_type": "execute_result"
    }
   ],
   "source": [
    "# Select desired player from roster\n",
    "player_roster_select = 5\n",
    "player_select = player_roster[player_roster_select]\n",
    "player_select"
   ]
  },
  {
   "cell_type": "markdown",
   "metadata": {},
   "source": [
    "### Basic Information\n",
    "\n",
    "Now that we selected our desired player, Mookie Betts from the 2021 Los Angeles Dodgers, lets retrieve some basic information about our player such as position played, debut, and how the player bats and throws. Since it will be important later, we will also need to calculate the age of the player. However, players who have passed away will need to have their age evaluated differently."
   ]
  },
  {
   "cell_type": "code",
   "execution_count": 38,
   "metadata": {},
   "outputs": [],
   "source": [
    "# Query the database for player name, date of birth and other information needed\n",
    "player_data = pd.read_sql_query(f'''SELECT DISTINCT player.nameFirst || ' ' || player.nameLast AS playerName, player.birth_date, player.bats, player.throws, fielder.pos, debut\n",
    "                                FROM people player\n",
    "                                    LEFT JOIN fielding fielder ON fielder.playerID = player.playerID\n",
    "                                WHERE player.playerID = '{player_select.get('value')}';''',sqlite_con)"
   ]
  },
  {
   "cell_type": "code",
   "execution_count": 39,
   "metadata": {},
   "outputs": [],
   "source": [
    "# So that we can properly and accurately calculate players ages\n",
    "# import datetime and timedelta\n",
    "from datetime import datetime, timedelta"
   ]
  },
  {
   "cell_type": "code",
   "execution_count": 40,
   "metadata": {},
   "outputs": [],
   "source": [
    "# set todays date\n",
    "today = datetime.today()"
   ]
  },
  {
   "cell_type": "code",
   "execution_count": 41,
   "metadata": {},
   "outputs": [],
   "source": [
    "# set selected players birthdate as a datetime timestamp\n",
    "player_birthdate = pd.to_datetime(player_data.birth_date)"
   ]
  },
  {
   "cell_type": "code",
   "execution_count": 42,
   "metadata": {},
   "outputs": [],
   "source": [
    "# using the timedelta, calculate the players proper age\n",
    "player_age = (today - player_birthdate)/timedelta(days=365)"
   ]
  },
  {
   "cell_type": "code",
   "execution_count": 43,
   "metadata": {},
   "outputs": [
    {
     "name": "stdout",
     "output_type": "stream",
     "text": [
      "Player Name: Mookie Betts\n",
      "Player Current Age: 30\n",
      "Debut: 2014-06-29\n",
      "Bats/Throws: R/R\n",
      "Position: 2B\n",
      "Position: OF\n"
     ]
    }
   ],
   "source": [
    "# Print basic information of selected player\n",
    "print(f'Player Name: {player_data.playerName[0]}')\n",
    "print(f'Player Current Age: {round(player_age[0])}')\n",
    "print(f'Debut: {player_data.debut[0]}')\n",
    "print(f'Bats/Throws: {player_data.bats[0]}/{player_data.throws[0]}')\n",
    "for position in player_data.POS: print(f'Position: {position}')"
   ]
  },
  {
   "cell_type": "markdown",
   "metadata": {},
   "source": [
    "### Analysis\n",
    "\n",
    "With the basic information taken care of, the player data can be retrieved and analyzed. We also need to be sure that the players position is included in the datatable since a single player may play multiple positions but may only play for one team or play on multiple teams but play at various positions. Remember the data that is selected is based on the Era and the year, a players career data will only reflect upto the selected year."
   ]
  },
  {
   "cell_type": "code",
   "execution_count": 44,
   "metadata": {},
   "outputs": [],
   "source": [
    "# Query database for player data\n",
    "player_career = pd.read_sql_query(f'''SELECT batter.yearID, batter.teamID, batter.lgID, batter.G, batter.AB, batter.R, batter.H, batter.\"2B\", batter.\"3B\", \n",
    "                                    batter.HR, batter.RBI, batter.SB, batter.CS, batter.BB, batter.SO, batter.IBB, batter.HBP, batter.SH, batter.SF, batter.GIDP\n",
    "                                FROM batting batter\n",
    "                                WHERE batter.playerID = '{player_select.get('value')}'\n",
    "                                    AND batter.yearID >= {era_time[player_era_select][0]} AND batter.yearID <= {player_year.get('value')}\n",
    "                                ORDER BY batter.yearID ASC;''',sqlite_con)"
   ]
  },
  {
   "cell_type": "code",
   "execution_count": 45,
   "metadata": {},
   "outputs": [
    {
     "data": {
      "text/html": [
       "<div>\n",
       "<style scoped>\n",
       "    .dataframe tbody tr th:only-of-type {\n",
       "        vertical-align: middle;\n",
       "    }\n",
       "\n",
       "    .dataframe tbody tr th {\n",
       "        vertical-align: top;\n",
       "    }\n",
       "\n",
       "    .dataframe thead th {\n",
       "        text-align: right;\n",
       "    }\n",
       "</style>\n",
       "<table border=\"1\" class=\"dataframe\">\n",
       "  <thead>\n",
       "    <tr style=\"text-align: right;\">\n",
       "      <th></th>\n",
       "      <th>yearID</th>\n",
       "      <th>teamID</th>\n",
       "      <th>lgID</th>\n",
       "      <th>G</th>\n",
       "      <th>AB</th>\n",
       "      <th>R</th>\n",
       "      <th>H</th>\n",
       "      <th>2B</th>\n",
       "      <th>3B</th>\n",
       "      <th>HR</th>\n",
       "      <th>RBI</th>\n",
       "      <th>SB</th>\n",
       "      <th>CS</th>\n",
       "      <th>BB</th>\n",
       "      <th>SO</th>\n",
       "      <th>IBB</th>\n",
       "      <th>HBP</th>\n",
       "      <th>SH</th>\n",
       "      <th>SF</th>\n",
       "      <th>GIDP</th>\n",
       "    </tr>\n",
       "  </thead>\n",
       "  <tbody>\n",
       "    <tr>\n",
       "      <th>0</th>\n",
       "      <td>2016</td>\n",
       "      <td>BOS</td>\n",
       "      <td>AL</td>\n",
       "      <td>158</td>\n",
       "      <td>672</td>\n",
       "      <td>122</td>\n",
       "      <td>214</td>\n",
       "      <td>42</td>\n",
       "      <td>5</td>\n",
       "      <td>31</td>\n",
       "      <td>113</td>\n",
       "      <td>26</td>\n",
       "      <td>4</td>\n",
       "      <td>49</td>\n",
       "      <td>80</td>\n",
       "      <td>1</td>\n",
       "      <td>2</td>\n",
       "      <td>0</td>\n",
       "      <td>7</td>\n",
       "      <td>12</td>\n",
       "    </tr>\n",
       "    <tr>\n",
       "      <th>1</th>\n",
       "      <td>2017</td>\n",
       "      <td>BOS</td>\n",
       "      <td>AL</td>\n",
       "      <td>153</td>\n",
       "      <td>628</td>\n",
       "      <td>101</td>\n",
       "      <td>166</td>\n",
       "      <td>46</td>\n",
       "      <td>2</td>\n",
       "      <td>24</td>\n",
       "      <td>102</td>\n",
       "      <td>26</td>\n",
       "      <td>3</td>\n",
       "      <td>77</td>\n",
       "      <td>79</td>\n",
       "      <td>9</td>\n",
       "      <td>2</td>\n",
       "      <td>0</td>\n",
       "      <td>5</td>\n",
       "      <td>9</td>\n",
       "    </tr>\n",
       "    <tr>\n",
       "      <th>2</th>\n",
       "      <td>2018</td>\n",
       "      <td>BOS</td>\n",
       "      <td>AL</td>\n",
       "      <td>136</td>\n",
       "      <td>520</td>\n",
       "      <td>129</td>\n",
       "      <td>180</td>\n",
       "      <td>47</td>\n",
       "      <td>5</td>\n",
       "      <td>32</td>\n",
       "      <td>80</td>\n",
       "      <td>30</td>\n",
       "      <td>6</td>\n",
       "      <td>81</td>\n",
       "      <td>91</td>\n",
       "      <td>8</td>\n",
       "      <td>8</td>\n",
       "      <td>0</td>\n",
       "      <td>5</td>\n",
       "      <td>5</td>\n",
       "    </tr>\n",
       "    <tr>\n",
       "      <th>3</th>\n",
       "      <td>2019</td>\n",
       "      <td>BOS</td>\n",
       "      <td>AL</td>\n",
       "      <td>150</td>\n",
       "      <td>597</td>\n",
       "      <td>135</td>\n",
       "      <td>176</td>\n",
       "      <td>40</td>\n",
       "      <td>5</td>\n",
       "      <td>29</td>\n",
       "      <td>80</td>\n",
       "      <td>16</td>\n",
       "      <td>3</td>\n",
       "      <td>97</td>\n",
       "      <td>101</td>\n",
       "      <td>6</td>\n",
       "      <td>3</td>\n",
       "      <td>0</td>\n",
       "      <td>9</td>\n",
       "      <td>11</td>\n",
       "    </tr>\n",
       "    <tr>\n",
       "      <th>4</th>\n",
       "      <td>2020</td>\n",
       "      <td>LAN</td>\n",
       "      <td>NL</td>\n",
       "      <td>55</td>\n",
       "      <td>219</td>\n",
       "      <td>47</td>\n",
       "      <td>64</td>\n",
       "      <td>9</td>\n",
       "      <td>1</td>\n",
       "      <td>16</td>\n",
       "      <td>39</td>\n",
       "      <td>10</td>\n",
       "      <td>2</td>\n",
       "      <td>24</td>\n",
       "      <td>38</td>\n",
       "      <td>1</td>\n",
       "      <td>2</td>\n",
       "      <td>0</td>\n",
       "      <td>1</td>\n",
       "      <td>2</td>\n",
       "    </tr>\n",
       "    <tr>\n",
       "      <th>5</th>\n",
       "      <td>2021</td>\n",
       "      <td>LAN</td>\n",
       "      <td>NL</td>\n",
       "      <td>122</td>\n",
       "      <td>466</td>\n",
       "      <td>93</td>\n",
       "      <td>123</td>\n",
       "      <td>29</td>\n",
       "      <td>3</td>\n",
       "      <td>23</td>\n",
       "      <td>58</td>\n",
       "      <td>10</td>\n",
       "      <td>5</td>\n",
       "      <td>68</td>\n",
       "      <td>86</td>\n",
       "      <td>2</td>\n",
       "      <td>11</td>\n",
       "      <td>0</td>\n",
       "      <td>5</td>\n",
       "      <td>5</td>\n",
       "    </tr>\n",
       "  </tbody>\n",
       "</table>\n",
       "</div>"
      ],
      "text/plain": [
       "   yearID teamID lgID    G   AB    R    H  2B  3B  HR  RBI  SB  CS  BB   SO  \\\n",
       "0    2016    BOS   AL  158  672  122  214  42   5  31  113  26   4  49   80   \n",
       "1    2017    BOS   AL  153  628  101  166  46   2  24  102  26   3  77   79   \n",
       "2    2018    BOS   AL  136  520  129  180  47   5  32   80  30   6  81   91   \n",
       "3    2019    BOS   AL  150  597  135  176  40   5  29   80  16   3  97  101   \n",
       "4    2020    LAN   NL   55  219   47   64   9   1  16   39  10   2  24   38   \n",
       "5    2021    LAN   NL  122  466   93  123  29   3  23   58  10   5  68   86   \n",
       "\n",
       "   IBB  HBP  SH  SF  GIDP  \n",
       "0    1    2   0   7    12  \n",
       "1    9    2   0   5     9  \n",
       "2    8    8   0   5     5  \n",
       "3    6    3   0   9    11  \n",
       "4    1    2   0   1     2  \n",
       "5    2   11   0   5     5  "
      ]
     },
     "execution_count": 45,
     "metadata": {},
     "output_type": "execute_result"
    }
   ],
   "source": [
    "# Mookie Betts's career statistics during the Statcast Era 2016-2021\n",
    "player_career"
   ]
  },
  {
   "cell_type": "markdown",
   "metadata": {},
   "source": [
    "With the datatable, we can see the player was traded from Boston to LA in 2020 which may have contributed to the Dodgers rise in batting performance. Similar to teams analysis, a player can be compared to many other players in various ways. Below is a basic example of analyzing a players batting performance. The plot shows Mookie Betts's On-Base Plus Slugging (OPS), Slugging Average (SLG), and On-Base Percentage (OBP)."
   ]
  },
  {
   "cell_type": "code",
   "execution_count": 46,
   "metadata": {},
   "outputs": [
    {
     "data": {
      "image/png": "[encoded data removed]",
      "text/plain": [
       "<Figure size 432x288 with 1 Axes>"
      ]
     },
     "metadata": {
      "needs_background": "light"
     },
     "output_type": "display_data"
    }
   ],
   "source": [
    "# set axis\n",
    "ax3 = plt.gca()\n",
    "\n",
    "# Using the filterd data from above set data variables\n",
    "# Years\n",
    "YR = player_career.yearID\n",
    "# Calculate singles\n",
    "Single = player_career.H - player_career['2B'] - player_career['3B'] - player_career.HR\n",
    "# Calculate On-Base Percentage\n",
    "OBP = (player_career.H + player_career.BB + player_career.HBP) / (player_career.AB + player_career.BB + player_career.HBP + player_career.SF)\n",
    "# Calculate Slugging average\n",
    "SLG = (Single + 2*player_career['2B'] + 3*player_career['3B'] + 4*player_career.HR)/player_career.AB\n",
    "# Calculate On-Base Plus Slugging\n",
    "OPS = OBP + SLG\n",
    "\n",
    "# Set graph data\n",
    "Data = {'YR': YR,\n",
    "        'OPS': OPS,\n",
    "        'OBP': OBP,\n",
    "        'SLG': SLG}\n",
    "\n",
    "# set new dataframe for graph\n",
    "df = pd.DataFrame(Data,columns=['YR','OPS','OBP','SLG'])\n",
    "# plot new dataframe\n",
    "df.plot.scatter(x='YR', y='OPS',ax=ax3,marker='s')\n",
    "df.plot.scatter(x='YR', y='SLG',ax=ax3,color='green')\n",
    "df.plot.scatter(x='YR', y='OBP',ax=ax3,color='orange')\n",
    "\n",
    "plt.show()"
   ]
  },
  {
   "cell_type": "code",
   "execution_count": 47,
   "metadata": {},
   "outputs": [],
   "source": [
    "# Since we are done, we must close the database connection.\n",
    "# Regardless of this being a notebook, its good practice.\n",
    "sqlite_con.close()"
   ]
  },
  {
   "cell_type": "markdown",
   "metadata": {},
   "source": [
    "We can see that Mookie Betts's batting performance has remained strong and consistent which makes him a perspective team leader and significant contributor to a teams performance. While comparative analysis can be beneficial to selecting players for a trade. There are more advanced ways to compare a desired player against perspective competition, which may be addressed at a later time. Additionally current player career evaluation and projections can be included, however, projections will be handled in a separate notebook."
   ]
  },
  {
   "cell_type": "markdown",
   "metadata": {},
   "source": [
    "## Conclusion\n",
    "\n",
    "We can see that players and teams can be evaluated using a combination of SQL queries and Pandas. This notebook updated the methods and functions needed to pursue an analytically driven application. The visualizations and data shown in this notebook will be used to create an application using Plotly Dash, analyzing team and player data from across Major League Baseball's history."
   ]
  }
 ],
 "metadata": {
  "kernelspec": {
   "display_name": "Python 3",
   "language": "python",
   "name": "python3"
  },
  "language_info": {
   "codemirror_mode": {
    "name": "ipython",
    "version": 3
   },
   "file_extension": ".py",
   "mimetype": "text/x-python",
   "name": "python",
   "nbconvert_exporter": "python",
   "pygments_lexer": "ipython3",
   "version": "3.8.8"
  }
 },
 "nbformat": 4,
 "nbformat_minor": 4
}
