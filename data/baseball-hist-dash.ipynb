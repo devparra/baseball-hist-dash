{
 "cells": [
  {
   "cell_type": "markdown",
   "metadata": {},
   "source": [
    "# Historical Baseball Dashboard"
   ]
  },
  {
   "cell_type": "markdown",
   "metadata": {},
   "source": [
    "### Written by Matthew Parra\n",
    "Original Date: November 2020\n",
    "\n",
    "Notebook Updated: May 2023\n",
    "\n",
    "Twitter: @cursesincode\n",
    "\n",
    "## This notebook and the application\n",
    "\n",
    "This notebook will be used to create methods for generating lists of teams based on era as well as lists of players based on era, year, and team. Additionally this notebook will be used to conduct basic analysis as a proof of concept for a dashboard that will analyze Major League Baseball data. In this notebook a baseballs teams win/loss performance as well as batting performance will be evaluated as well as compare two teams. Data will be retrieved from a SQLite database, calculations will be handled using Python and Pandas. All analysis will use the standard built-in methods of plotting data as a means of visualization.\n",
    "\n",
    "Plotly's Dash will be used when constructing the final application. Because of Plotly's ease of use and flexibility, any further analysis of teams and players that are needed or desired will be designed outside of this notebook. The application will be built using faculty.ai's Dash Bootstrap Components to aid in layout. Using historical MLB (Major League Baseball) data, the application will provide analysis for team and player statistics dating from the earliest years of baseball through the 2021 season.\n",
    "\n",
    "## Dependencies for the notebook\n",
    "\n",
    "- SQLite 3\n",
    "- Pandas\n",
    "\n",
    "## The Data\n",
    "\n",
    "The CSV Data used was retrieved from [Seanlahman.com](http://www.seanlahman.com/baseball-archive/statistics/). The CSV data is copyright 1996-2022 by Sean Lahman. The CSV data is licensed under a Creative Commons Attribution-ShareAlike 3.0 Unported License. For details see: [CreativeCommons](http://creativecommons.org/licenses/by-sa/3.0/). The SQLite Database Provided by Nat Dunn of [WebucatorTraining](https://github.com/WebucatorTraining/lahman-baseball-mysql). The SQLite Database is licensed under a Creative Commons Zero v1.0 Universal License. For details see: [Github Repository Licenses](https://docs.github.com/articles/licensing-a-repository/#disclaimer)"
   ]
  },
  {
   "cell_type": "code",
   "execution_count": 1,
   "metadata": {},
   "outputs": [],
   "source": [
    "# Import Numpy, Pandas, and SQLite libraries\n",
    "import sqlite3\n",
    "import pandas as pd\n",
    "import numpy as np"
   ]
  },
  {
   "cell_type": "markdown",
   "metadata": {},
   "source": [
    "## From CSV Data to SQL\n",
    "Using just the CSV data, while more complete, is much more difficult to query using purely Pandas. In some cases the team names had to be altered to their modern counterpart to better fit analysis and provide better continuity. Using SQL to query a SQLite database is speedier and requires less code to run. Using the CSV data, I updated the SQLite database provided by Nat Dunn using the data available in the core of Sean Lahman's CSV data. Using a combination of SQLAlchemy and the SQLite3 libraries to update the database was simple, although, I had to add columns as needed or omit/alter certain columns to make sure the CSV data had all the proper columns needed to fit the SQL database. For the most part, the process of updating the SQLite database looks like this:\n",
    "\n",
    "```python\n",
    "# SQLAlchemy engine and SQLite connection both pointed at the same database\n",
    "alch_engine = create_engine('sqlite:///lahmansbaseballdb.sqlite', echo=False)\n",
    "sqlite_con = sqlite3.connect('lahmansbaseballdb.sqlite')`\n",
    "\n",
    "# Query the current state of the SQLite database\n",
    "sql_teams = pd.read_sql_query(f'''SELECT * FROM teams ORDER BY yearID ASC;''',sqlite_con)\n",
    "# Validate the latest year in the SQL database, 2019\n",
    "sql_teams.yearID.max()\n",
    "# Create a Pandas Dataframe using the CSV files.\n",
    "teams_csv = pd.read_csv('./core/Teams.csv')\n",
    "# Validate the latest year in the CSV data, 2022\n",
    "teams_csv.yearID.max()\n",
    "# Identify differences in columns\n",
    "sql_teams.columns.difference(teams_csv.columns)\n",
    "\n",
    "# Make changes to the columns as needed ...\n",
    "\n",
    "# Select data, in this case data from 2020 to 2022 needed to be added\n",
    "teams_csv_data = teams_csv[teams_csv.yearID > 2019]\n",
    "\n",
    "# Use the Pandas to_sql function and the SQLAlchemy engine to update database\n",
    "with alch_engine.begin() as connection:\n",
    "    teams_csv_data.to_sql('teams', con=connection, if_exists='append', index=False)\n",
    "\n",
    "# New query using the SQLite connection to confirm changes, year should be 2021\n",
    "update_sql_teams = pd.read_sql_query(f'''SELECT * FROM teams ORDER BY yearID DESC;''',sqlite_con)\n",
    "update_sql_teams.yearID.max()\n",
    "```\n",
    "\n",
    "Although some tables updated without an issue some where more reluctant. The All-Star Full table required replacing rather than updating, the data in the SQL table was replaced by the up-to-date CSV data. A hand full of other tables where left alone either because there was either no new data or no data was available. The tables edited included: Teams, People, Batting, BattingPost, Fielding, FieldingPost, Pitching, PitchingPost, SeriesPost, Managers, HomeGames, and AllstarFull.\n",
    "\n",
    "### Start a SQLite3 connection to the database\n",
    "\n",
    "To get started evaluating the data, a connection to the SQLite database will be need."
   ]
  },
  {
   "cell_type": "code",
   "execution_count": 2,
   "metadata": {},
   "outputs": [],
   "source": [
    "sqlite_con = sqlite3.connect('lahmansbaseballdb.sqlite')"
   ]
  },
  {
   "cell_type": "markdown",
   "metadata": {},
   "source": [
    "A fullsize map of the database can be found on Nat Dunn's [GitHub](https://github.com/WebucatorTraining/lahman-baseball-mysql/blob/master/lahman-model.png)."
   ]
  },
  {
   "cell_type": "markdown",
   "metadata": {},
   "source": [
    "## Listing Teams in Given Era\n",
    "\n",
    "The history of Major League Baseball (MLB) can be broken into era's, each represents a period of significant change in MLB's history. Plotly Dash requires that dropdown lists use a key value list or rather a 'label' and value list. The following will provide functions that are necessary in dynamically creating a list of team names paired with their ID. I personally called the era prior to the Deadball Era (pre 1903 World Series) the Knickerbocker Era as this is the era and the name of the team that is hailed as the origin of baseball. To begin, we should look at the teams table in the database."
   ]
  },
  {
   "cell_type": "code",
   "execution_count": 3,
   "metadata": {},
   "outputs": [],
   "source": [
    "# Query the database for everything in the teams table\n",
    "teams_table = pd.read_sql_query('SELECT * FROM teams;',sqlite_con)"
   ]
  },
  {
   "cell_type": "markdown",
   "metadata": {},
   "source": [
    "We already know there will be a lot of data, so it would not be neccesary at this moment to just look at the info function of this dataframe. For now I am just curious about the column names so that I can conduct some exploratory analysis and identify the range of years the database spans and the names of all teams with their ID."
   ]
  },
  {
   "cell_type": "code",
   "execution_count": 4,
   "metadata": {},
   "outputs": [
    {
     "data": {
      "text/plain": [
       "Index(['ID', 'yearID', 'lgID', 'teamID', 'franchID', 'divID', 'div_ID',\n",
       "       'teamRank', 'G', 'Ghome', 'W', 'L', 'DivWin', 'WCWin', 'LgWin', 'WSWin',\n",
       "       'R', 'AB', 'H', '2B', '3B', 'HR', 'BB', 'SO', 'SB', 'CS', 'HBP', 'SF',\n",
       "       'RA', 'ER', 'ERA', 'CG', 'SHO', 'SV', 'IPouts', 'HA', 'HRA', 'BBA',\n",
       "       'SOA', 'E', 'DP', 'FP', 'name', 'park', 'attendance', 'BPF', 'PPF',\n",
       "       'teamIDBR', 'teamIDlahman45', 'teamIDretro'],\n",
       "      dtype='object')"
      ]
     },
     "execution_count": 4,
     "metadata": {},
     "output_type": "execute_result"
    }
   ],
   "source": [
    "# Take a look at columns\n",
    "teams_table.columns"
   ]
  },
  {
   "cell_type": "code",
   "execution_count": 5,
   "metadata": {},
   "outputs": [
    {
     "name": "stdout",
     "output_type": "stream",
     "text": [
      "MLB Baseball spans from 1871 to 2022, exactly 151 years.\n"
     ]
    }
   ],
   "source": [
    "# Investigate how far back the years go\n",
    "print(f'MLB Baseball spans from {teams_table.yearID.min()} to {teams_table.yearID.max()}, exactly {teams_table.yearID.max() - teams_table.yearID.min()} years.')"
   ]
  },
  {
   "cell_type": "markdown",
   "metadata": {},
   "source": [
    "Now that we have confirmed the database is up to date with the most complete season and the database goes as far back as 1871, lets take a quick look at how many teams have played in the 151 years of baseball."
   ]
  },
  {
   "cell_type": "code",
   "execution_count": 6,
   "metadata": {},
   "outputs": [],
   "source": [
    "# List all teams from all years\n",
    "all_teams = pd.read_sql_query('''SELECT DISTINCT team.teamID, team.name\n",
    "                                    FROM teams team\n",
    "                                    WHERE team.yearID >= 1871 AND team.yearID <= 2022\n",
    "                                    ORDER BY team.yearID ASC;''',sqlite_con)"
   ]
  },
  {
   "cell_type": "code",
   "execution_count": 7,
   "metadata": {},
   "outputs": [
    {
     "data": {
      "text/html": [
       "<div>\n",
       "<style scoped>\n",
       "    .dataframe tbody tr th:only-of-type {\n",
       "        vertical-align: middle;\n",
       "    }\n",
       "\n",
       "    .dataframe tbody tr th {\n",
       "        vertical-align: top;\n",
       "    }\n",
       "\n",
       "    .dataframe thead th {\n",
       "        text-align: right;\n",
       "    }\n",
       "</style>\n",
       "<table border=\"1\" class=\"dataframe\">\n",
       "  <thead>\n",
       "    <tr style=\"text-align: right;\">\n",
       "      <th></th>\n",
       "      <th>teamID</th>\n",
       "      <th>name</th>\n",
       "    </tr>\n",
       "  </thead>\n",
       "  <tbody>\n",
       "    <tr>\n",
       "      <th>0</th>\n",
       "      <td>BS1</td>\n",
       "      <td>Boston Red Stockings</td>\n",
       "    </tr>\n",
       "    <tr>\n",
       "      <th>1</th>\n",
       "      <td>CH1</td>\n",
       "      <td>Chicago White Stockings</td>\n",
       "    </tr>\n",
       "    <tr>\n",
       "      <th>2</th>\n",
       "      <td>CL1</td>\n",
       "      <td>Cleveland Forest Citys</td>\n",
       "    </tr>\n",
       "    <tr>\n",
       "      <th>3</th>\n",
       "      <td>FW1</td>\n",
       "      <td>Fort Wayne Kekiongas</td>\n",
       "    </tr>\n",
       "    <tr>\n",
       "      <th>4</th>\n",
       "      <td>NY2</td>\n",
       "      <td>New York Mutuals</td>\n",
       "    </tr>\n",
       "  </tbody>\n",
       "</table>\n",
       "</div>"
      ],
      "text/plain": [
       "  teamID                     name\n",
       "0    BS1     Boston Red Stockings\n",
       "1    CH1  Chicago White Stockings\n",
       "2    CL1   Cleveland Forest Citys\n",
       "3    FW1     Fort Wayne Kekiongas\n",
       "4    NY2         New York Mutuals"
      ]
     },
     "execution_count": 7,
     "metadata": {},
     "output_type": "execute_result"
    }
   ],
   "source": [
    "# Take a look at the top 5 in the list\n",
    "all_teams.head()"
   ]
  },
  {
   "cell_type": "code",
   "execution_count": 8,
   "metadata": {},
   "outputs": [
    {
     "data": {
      "text/plain": [
       "184"
      ]
     },
     "execution_count": 8,
     "metadata": {},
     "output_type": "execute_result"
    }
   ],
   "source": [
    "# Count the number of teams\n",
    "all_teams.name.count()"
   ]
  },
  {
   "cell_type": "code",
   "execution_count": 9,
   "metadata": {},
   "outputs": [],
   "source": [
    "# List all league IDs from all years\n",
    "all_leagues = pd.read_sql_query('''SELECT DISTINCT team.lgID\n",
    "                                    FROM teams team\n",
    "                                    WHERE team.yearID >= 1871 AND team.yearID <= 2022\n",
    "                                    ORDER BY team.yearID ASC;''',sqlite_con)"
   ]
  },
  {
   "cell_type": "code",
   "execution_count": 10,
   "metadata": {},
   "outputs": [
    {
     "data": {
      "text/html": [
       "<div>\n",
       "<style scoped>\n",
       "    .dataframe tbody tr th:only-of-type {\n",
       "        vertical-align: middle;\n",
       "    }\n",
       "\n",
       "    .dataframe tbody tr th {\n",
       "        vertical-align: top;\n",
       "    }\n",
       "\n",
       "    .dataframe thead th {\n",
       "        text-align: right;\n",
       "    }\n",
       "</style>\n",
       "<table border=\"1\" class=\"dataframe\">\n",
       "  <thead>\n",
       "    <tr style=\"text-align: right;\">\n",
       "      <th></th>\n",
       "      <th>lgID</th>\n",
       "    </tr>\n",
       "  </thead>\n",
       "  <tbody>\n",
       "    <tr>\n",
       "      <th>0</th>\n",
       "      <td>NA</td>\n",
       "    </tr>\n",
       "    <tr>\n",
       "      <th>1</th>\n",
       "      <td>NL</td>\n",
       "    </tr>\n",
       "    <tr>\n",
       "      <th>2</th>\n",
       "      <td>AA</td>\n",
       "    </tr>\n",
       "    <tr>\n",
       "      <th>3</th>\n",
       "      <td>UA</td>\n",
       "    </tr>\n",
       "    <tr>\n",
       "      <th>4</th>\n",
       "      <td>PL</td>\n",
       "    </tr>\n",
       "    <tr>\n",
       "      <th>5</th>\n",
       "      <td>AL</td>\n",
       "    </tr>\n",
       "    <tr>\n",
       "      <th>6</th>\n",
       "      <td>FL</td>\n",
       "    </tr>\n",
       "  </tbody>\n",
       "</table>\n",
       "</div>"
      ],
      "text/plain": [
       "  lgID\n",
       "0   NA\n",
       "1   NL\n",
       "2   AA\n",
       "3   UA\n",
       "4   PL\n",
       "5   AL\n",
       "6   FL"
      ]
     },
     "execution_count": 10,
     "metadata": {},
     "output_type": "execute_result"
    }
   ],
   "source": [
    "all_leagues"
   ]
  },
  {
   "cell_type": "markdown",
   "metadata": {},
   "source": [
    "Over the century and a half that baseball has been played we can see that there have been 183 teams that have come and gone, some whom have stood through the test of time and have become pillars in this great sport. Next we will need to create lists of teams based on ranges of years. Because each era will have a set of years associated we can dynamically generate lists of teams with their ID within each selected range."
   ]
  },
  {
   "cell_type": "code",
   "execution_count": 11,
   "metadata": {},
   "outputs": [],
   "source": [
    "# Hard coded list of era's to be used with the Dash app\n",
    "era_list = [{'label': 'Statcast (\\'16-\\'22)','value': 'Statcast'},\n",
    "            {'label': 'Post-Steroid (\\'06-\\'15)','value': 'Post-Steroid'},\n",
    "            {'label': 'Steroid (\\'94-\\'05)','value': 'Steroid'},\n",
    "            {'label': 'Free Agency (\\'77-\\'93)','value': 'Free Agency'},\n",
    "            {'label': 'Expantion (\\'61-\\'76)','value': 'Expantion'},\n",
    "            {'label': 'Integration (\\'42-\\'60)','value': 'Integration'},\n",
    "            {'label': 'Live Ball (\\'20-\\'41)','value': 'Live Ball'},\n",
    "            {'label': 'Dead Ball (\\'03-\\'19)','value': 'Dead Ball'},\n",
    "            {'label': 'Knickerbocker (\\'71-\\'02)','value': 'Knickerbocker'},]\n",
    "\n",
    "# list of of years spanning each era\n",
    "era_time = [(2016,2022),\n",
    "            (2006,2015),\n",
    "            (1994,2005),\n",
    "            (1977,1993),\n",
    "            (1961,1976),\n",
    "            (1942,1960),\n",
    "            (1920,1941),\n",
    "            (1903,1919),\n",
    "            (1871,1902)]\n",
    "\n",
    "\n",
    "# Dyname League Generator\n",
    "def dynamicleagues(e):\n",
    "    # Import Hardcoded lists\n",
    "    global era_time\n",
    "    # League ID data\n",
    "    leagues = pd.read_sql_query(f'''SELECT DISTINCT lgID\n",
    "                                        FROM teams team\n",
    "                                    WHERE team.yearID >= {era_time[e][0]} AND team.yearID <= {era_time[e][1]}\n",
    "                                    ORDER BY team.yearID ASC;''', sqlite_con)\n",
    "    # return list comp of key value pair\n",
    "    return [{'label': k, 'value': v }for k, v in zip(leagues['lgID'], leagues['lgID'])]\n",
    "\n",
    "\n",
    "# Creates a dynamic list of team names based on era\n",
    "def dynamicteams(l,x):\n",
    "    # Hardcoded list of era time spans, wouldnt do it this way if the set where larger\n",
    "    global era_time\n",
    "    \n",
    "    # No assertion for the variable X is needed\n",
    "    # The need to hanel database errors might be needed\n",
    "    \n",
    "    # create a filter list of team names and ids\n",
    "    filter_team_ids = pd.read_sql_query(f'''SELECT DISTINCT team.name,team.teamID\n",
    "                                        FROM teams team\n",
    "                                        WHERE team.lgID = \"{l}\" AND team.yearID >= {era_time[x][0]} AND team.yearID <= {era_time[x][1]};''',sqlite_con)\n",
    "    # list comp of key value pair\n",
    "    return [{'label': k, 'value': v }for k, v in zip(filter_team_ids['name'], filter_team_ids['teamID'])]"
   ]
  },
  {
   "cell_type": "markdown",
   "metadata": {},
   "source": [
    "### List team by ERA"
   ]
  },
  {
   "cell_type": "code",
   "execution_count": 12,
   "metadata": {},
   "outputs": [
    {
     "data": {
      "text/plain": [
       "{'label': \"Statcast ('16-'22)\", 'value': 'Statcast'}"
      ]
     },
     "execution_count": 12,
     "metadata": {},
     "output_type": "execute_result"
    }
   ],
   "source": [
    "# Select era from list above, in this case the Statcast Era (current era)\n",
    "era_select = 0\n",
    "era_list[era_select]"
   ]
  },
  {
   "cell_type": "code",
   "execution_count": 13,
   "metadata": {},
   "outputs": [
    {
     "data": {
      "text/plain": [
       "[{'label': 'AL', 'value': 'AL'}, {'label': 'NL', 'value': 'NL'}]"
      ]
     },
     "execution_count": 13,
     "metadata": {},
     "output_type": "execute_result"
    }
   ],
   "source": [
    "dynamicleagues(era_select)"
   ]
  },
  {
   "cell_type": "code",
   "execution_count": 14,
   "metadata": {},
   "outputs": [
    {
     "data": {
      "text/plain": [
       "'NL'"
      ]
     },
     "execution_count": 14,
     "metadata": {},
     "output_type": "execute_result"
    }
   ],
   "source": [
    "league_list = dynamicleagues(era_select)\n",
    "league_list[1].get('value')"
   ]
  },
  {
   "cell_type": "code",
   "execution_count": 15,
   "metadata": {
    "tags": []
   },
   "outputs": [
    {
     "data": {
      "text/plain": [
       "[{'label': 'Arizona Diamondbacks', 'value': 'ARI'},\n",
       " {'label': 'Atlanta Braves', 'value': 'ATL'},\n",
       " {'label': 'Chicago Cubs', 'value': 'CHN'},\n",
       " {'label': 'Cincinnati Reds', 'value': 'CIN'},\n",
       " {'label': 'Colorado Rockies', 'value': 'COL'},\n",
       " {'label': 'Los Angeles Dodgers', 'value': 'LAN'},\n",
       " {'label': 'Miami Marlins', 'value': 'MIA'},\n",
       " {'label': 'Milwaukee Brewers', 'value': 'MIL'},\n",
       " {'label': 'New York Mets', 'value': 'NYN'},\n",
       " {'label': 'Philadelphia Phillies', 'value': 'PHI'},\n",
       " {'label': 'Pittsburgh Pirates', 'value': 'PIT'},\n",
       " {'label': 'San Diego Padres', 'value': 'SDN'},\n",
       " {'label': 'San Francisco Giants', 'value': 'SFN'},\n",
       " {'label': 'St. Louis Cardinals', 'value': 'SLN'},\n",
       " {'label': 'Washington Nationals', 'value': 'WAS'}]"
      ]
     },
     "execution_count": 15,
     "metadata": {},
     "output_type": "execute_result"
    }
   ],
   "source": [
    "# Display list of teams based on league\n",
    "dynamicteams(league_list[1].get('value'), era_select)"
   ]
  },
  {
   "cell_type": "markdown",
   "metadata": {},
   "source": [
    "### Select ERA from List"
   ]
  },
  {
   "cell_type": "code",
   "execution_count": 16,
   "metadata": {},
   "outputs": [
    {
     "data": {
      "text/plain": [
       "{'label': 'Atlanta Braves', 'value': 'ATL'}"
      ]
     },
     "execution_count": 16,
     "metadata": {},
     "output_type": "execute_result"
    }
   ],
   "source": [
    "# Set list of teams to be chosen from\n",
    "# league_list = dynamicleagues(era_select)\n",
    "team_list = dynamicteams(league_list[1].get('value'), era_select)\n",
    "# Team is selected from a dropdown list using Dash\n",
    "# Atlanta Braves\n",
    "team = team_list[1]\n",
    "team"
   ]
  },
  {
   "cell_type": "markdown",
   "metadata": {},
   "source": [
    "### Get team information\n",
    "\n",
    "Now that we have obtained a list of teams based on a given era (modern Statcast) and selected the Oakland Athletics, we can query the database for basic information about the team."
   ]
  },
  {
   "cell_type": "code",
   "execution_count": 17,
   "metadata": {},
   "outputs": [],
   "source": [
    "# Team championship list and datatable\n",
    "# team.get('value') is only used here, Dash will have its own way of selecting team in callback\n",
    "team_info = pd.read_sql_query(f'''SELECT \n",
    "                                    team.yearID, team.name, team.lgID, team.divID,\n",
    "                                    team.park, team.attendance, \n",
    "                                    team.Ghome, team.DivWin, \n",
    "                                    team.WCWin, team.LgWin, team.WSWin\n",
    "                                FROM teams team\n",
    "                                WHERE team.teamID = '{team.get('value')}' \n",
    "                                    AND team.yearID >= {era_time[era_select][0]} \n",
    "                                    AND team.yearID <= {era_time[era_select][1]}\n",
    "                                ORDER BY team.yearID ASC;''',sqlite_con)"
   ]
  },
  {
   "cell_type": "code",
   "execution_count": 18,
   "metadata": {},
   "outputs": [
    {
     "name": "stdout",
     "output_type": "stream",
     "text": [
      "League: NL\n",
      "Division: E\n",
      "Park Name(s): Turner Field SunTrust Park\n",
      "Avg. Home Attendence: 26801.0\n",
      "WC Series Wins:  0\n",
      "Div Series Wins:  5\n",
      "Lg Series Wins:  1\n",
      "World Series Wins:  1\n"
     ]
    }
   ],
   "source": [
    "# Basic team information\n",
    "print('League:', *team_info.lgID.unique())\n",
    "print('Division:', *team_info.divID.unique())\n",
    "print('Park Name(s):', *team_info.park.unique())\n",
    "# Avgerage Home Attendence\n",
    "print('Avg. Home Attendence:', (sum(team_info.attendance/team_info.Ghome)/team_info.yearID.count()).round())\n",
    "# Post-Season accomplishments\n",
    "print('WC Series Wins: ', team_info[team_info.WCWin == 'Y']['WCWin'].count())\n",
    "print('Div Series Wins: ', team_info[team_info.DivWin == 'Y']['DivWin'].count())\n",
    "print('Lg Series Wins: ', team_info[team_info.LgWin == 'Y']['LgWin'].count())\n",
    "print('World Series Wins: ', team_info[team_info.WSWin == 'Y']['WSWin'].count())"
   ]
  },
  {
   "cell_type": "markdown",
   "metadata": {},
   "source": [
    "## Team Analysis\n",
    "\n",
    "Each team's performance is analyzed for Wins and Losses, Batting, Fielding, and Pitching. To keep this notebook brief we will only look at a couple queries. Lets look at the Oakland Athletics Win-Loss record over the Statcast Era as well as their batting performance."
   ]
  },
  {
   "cell_type": "code",
   "execution_count": 19,
   "metadata": {},
   "outputs": [],
   "source": [
    "team_winloss = pd.read_sql_query(f'''SELECT team.yearID, team.teamID, team.W, team.L\n",
    "                                FROM teams team\n",
    "                                WHERE team.teamID = '{team.get('value')}' \n",
    "                                    AND team.yearID >= {era_time[era_select][0]} \n",
    "                                    AND team.yearID <= {era_time[era_select][1]}\n",
    "                                ORDER BY team.yearID ASC;''',sqlite_con)"
   ]
  },
  {
   "cell_type": "code",
   "execution_count": 20,
   "metadata": {},
   "outputs": [
    {
     "data": {
      "text/plain": [
       "<Axes: title={'center': 'Atlanta Braves Win/Loss'}, xlabel='yearID'>"
      ]
     },
     "execution_count": 20,
     "metadata": {},
     "output_type": "execute_result"
    },
    {
     "data": {
      "image/png": "[encoded data removed]",
      "text/plain": [
       "<Figure size 640x480 with 1 Axes>"
      ]
     },
     "metadata": {},
     "output_type": "display_data"
    }
   ],
   "source": [
    "team_winloss[team_winloss.teamID == team.get('value')].plot.bar(x='yearID',y=['W','L'],title=team.get('label') + ' Win/Loss',rot=75)"
   ]
  },
  {
   "cell_type": "code",
   "execution_count": 21,
   "metadata": {},
   "outputs": [],
   "source": [
    "team_batting = pd.read_sql_query(f'''SELECT team.yearID, team.teamID, team.AB, team.H, team.SO, team.BB, team.HR, team.'2B', team.'3B', team.HBP, team.SF\n",
    "                                FROM teams team\n",
    "                                WHERE team.teamID = '{team.get('value')}' \n",
    "                                    AND team.yearID >= {era_time[era_select][0]} \n",
    "                                    AND team.yearID <= {era_time[era_select][1]}\n",
    "                                ORDER BY team.yearID ASC;''',sqlite_con)"
   ]
  },
  {
   "cell_type": "code",
   "execution_count": 22,
   "metadata": {},
   "outputs": [
    {
     "data": {
      "image/png": "[encoded data removed]",
      "text/plain": [
       "<Figure size 640x480 with 1 Axes>"
      ]
     },
     "metadata": {},
     "output_type": "display_data"
    }
   ],
   "source": [
    "# import matplot lib to plot multiple graphs\n",
    "import matplotlib.pyplot as plt\n",
    "# set axis\n",
    "ax = plt.gca()\n",
    "\n",
    "# Using the filterd data from above, Live Ball Era\n",
    "YR = team_batting[team_batting.teamID == team.get('value')].yearID\n",
    "AB = team_batting[team_batting.teamID == team.get('value')].AB\n",
    "Ht = team_batting[team_batting.teamID == team.get('value')].H\n",
    "SO = team_batting[team_batting.teamID == team.get('value')].SO\n",
    "BB = team_batting[team_batting.teamID == team.get('value')].BB\n",
    "HR = team_batting[team_batting.teamID == team.get('value')].HR\n",
    "Db = team_batting[team_batting.teamID == team.get('value')]['2B']\n",
    "Tr = team_batting[team_batting.teamID == team.get('value')]['3B']\n",
    "HBP = team_batting[team_batting.teamID == team.get('value')].HBP\n",
    "SF = team_batting[team_batting.teamID == team.get('value')].SF\n",
    "# Calculate singles\n",
    "Sg = Ht - Db - Tr - HR\n",
    "\n",
    "# Calculate Slugging average\n",
    "SLG = (Sg + 2*Db + 3*Tr + 4*HR)/AB\n",
    "# On-Base Percentage\n",
    "OBP = (Ht + BB + HBP) / (AB + BB + HBP + SF)\n",
    "# Calculate Batting Average Balls In Play (BABIP)\n",
    "BABIP = (Ht - HR) / (AB - SO - HR)\n",
    "\n",
    "# Set graph data\n",
    "Data = {'YR': YR,\n",
    "        'BABIP': BABIP,\n",
    "        'SLG': SLG,\n",
    "        'OBP': OBP}\n",
    "\n",
    "# set new dataframe for graph\n",
    "df = pd.DataFrame(Data,columns=['YR','BABIP','BAVG','SLG','OBP'])\n",
    "# Apply new dataframe (filtered and calculated data using 'Live Ball' era data)\n",
    "df.plot.scatter(x='YR', y='BABIP',ax=ax,color='green')\n",
    "df.plot.scatter(x='YR', y='OBP',ax=ax,color='blue', title=team.get('label'))\n",
    "df.plot.scatter(x='YR', y='SLG',ax=ax,color='orange')\n",
    "plt.show()"
   ]
  },
  {
   "cell_type": "markdown",
   "metadata": {},
   "source": [
    "Looking at the most recent seasons, we see from the win-loss chart, the Athletics have improved their performance while according to the batting performance, they have declined in the past couple years. Perhaps the management had made a trade-off between pitching and hitting. Further analysis would have to be done to make any kind of conclusion. For now we can be sure that our migration to a SQLite database has allowed us to speed up our data retrieval and allow us to focus on analysis over data manipulation. Next lets take a look at comparing two teams."
   ]
  },
  {
   "cell_type": "markdown",
   "metadata": {},
   "source": [
    "### Compare two teams"
   ]
  },
  {
   "cell_type": "code",
   "execution_count": 23,
   "metadata": {},
   "outputs": [],
   "source": [
    "# Select two teams\n",
    "teamA = team_list[1]\n",
    "league_B_list = dynamicleagues(era_select)\n",
    "team_B_list = dynamicteams(league_list[0].get('value'), era_select)\n",
    "teamB = team_B_list[5]"
   ]
  },
  {
   "cell_type": "code",
   "execution_count": 24,
   "metadata": {},
   "outputs": [
    {
     "data": {
      "text/plain": [
       "{'label': 'Atlanta Braves', 'value': 'ATL'}"
      ]
     },
     "execution_count": 24,
     "metadata": {},
     "output_type": "execute_result"
    }
   ],
   "source": [
    "teamA"
   ]
  },
  {
   "cell_type": "code",
   "execution_count": 25,
   "metadata": {},
   "outputs": [
    {
     "data": {
      "text/plain": [
       "{'label': 'Houston Astros', 'value': 'HOU'}"
      ]
     },
     "execution_count": 25,
     "metadata": {},
     "output_type": "execute_result"
    }
   ],
   "source": [
    "teamB"
   ]
  },
  {
   "cell_type": "code",
   "execution_count": 26,
   "metadata": {},
   "outputs": [],
   "source": [
    "# Query the database for team data\n",
    "teamA_winloss = pd.read_sql_query(f'''SELECT team.yearID, team.teamID, team.W, team.L\n",
    "                                FROM teams team\n",
    "                                WHERE team.teamID = '{teamA.get('value')}' AND team.yearID >= {era_time[era_select][0]} AND team.yearID <= {era_time[era_select][1]}\n",
    "                                ORDER BY team.yearID ASC;''',sqlite_con)\n",
    "teamB_winloss = pd.read_sql_query(f'''SELECT team.yearID, team.teamID, team.W, team.L\n",
    "                                FROM teams team\n",
    "                                WHERE team.teamID = '{teamB.get('value')}' AND team.yearID >= {era_time[era_select][0]} AND team.yearID <= {era_time[era_select][1]}\n",
    "                                ORDER BY team.yearID ASC;''',sqlite_con)"
   ]
  },
  {
   "cell_type": "code",
   "execution_count": 27,
   "metadata": {},
   "outputs": [],
   "source": [
    "# Calculate the Average Winning Percentage\n",
    "AwPCT = teamA_winloss.W / (teamA_winloss.W + teamA_winloss.L)\n",
    "BwPCT = teamB_winloss.W / (teamB_winloss.W + teamB_winloss.L)"
   ]
  },
  {
   "cell_type": "code",
   "execution_count": 28,
   "metadata": {},
   "outputs": [],
   "source": [
    "# Create an Average Winning Percentage dictionary\n",
    "AwData = {'Year': teamA_winloss.yearID,\n",
    "        teamA.get('label'): AwPCT,\n",
    "        teamB.get('label'): BwPCT}\n",
    "\n",
    "# Create dataframe from dictionary for graph\n",
    "Aw_df = pd.DataFrame(AwData,columns=['Year',teamA.get('label'),teamB.get('label')])"
   ]
  },
  {
   "cell_type": "code",
   "execution_count": 29,
   "metadata": {},
   "outputs": [
    {
     "data": {
      "text/plain": [
       "<Axes: xlabel='Year'>"
      ]
     },
     "execution_count": 29,
     "metadata": {},
     "output_type": "execute_result"
    },
    {
     "data": {
      "image/png": "[encoded data removed]",
      "text/plain": [
       "<Figure size 640x480 with 1 Axes>"
      ]
     },
     "metadata": {},
     "output_type": "display_data"
    }
   ],
   "source": [
    "# Plot the Average Winning Percentage of both teams\n",
    "ax2 = plt.gca()\n",
    "Aw_df.plot.line(x='Year', y=teamA.get('label'),ax=ax2,color='orange')\n",
    "Aw_df.plot.line(x='Year', y=teamB.get('label'),ax=ax2,color='blue')"
   ]
  },
  {
   "cell_type": "markdown",
   "metadata": {},
   "source": [
    "We can see, compared to the Los Angeles Dodgers, the Oakland Athletics continued to work towards improving its performance although they have fallen short with the exception of the 2018 season. Comparing teams will allow us to see how trades and player performances have affected a team over the years. Teams can be compared using various calculations such as their On-Base Plus Slugging average or their Strike-out to Walk ratio or even the more advanced Technical Runs Created. To further the analysis of a given team, taking a look at individual player performance will give us the information we need to understand individual player contributions to a teams performance."
   ]
  },
  {
   "cell_type": "markdown",
   "metadata": {},
   "source": [
    "## Player Analysis\n",
    "\n",
    "While the available teams and their statistics are based on era, available players are provided based on the selected team and year within the given era. The players career data is limited to the given year within the selected era and the beginning of the era. Limiting the player data will provide us with better context to a teams performance through the Era. Players full careers will be evaluated in a separate section of the application. This analysis, however, provides us with an idea of how individual player analysis will be conducted. Analysis consists of Batting and Fielding\\Pitching performance other career data such as salaries and accolades may be added as data is available."
   ]
  },
  {
   "cell_type": "code",
   "execution_count": 30,
   "metadata": {},
   "outputs": [
    {
     "data": {
      "text/plain": [
       "{'label': \"Statcast ('16-'22)\", 'value': 'Statcast'}"
      ]
     },
     "execution_count": 30,
     "metadata": {},
     "output_type": "execute_result"
    }
   ],
   "source": [
    "# Era list, the same as earlier\n",
    "# Using a new list here only to ensure nothing is confused\n",
    "player_era_list = [{'label': 'Statcast (\\'16-\\'22)','value': 'Statcast'},\n",
    "            {'label': 'Post-Steroid (\\'06-\\'15)','value': 'Post-Steroid'},\n",
    "            {'label': 'Steroid (\\'94-\\'05)','value': 'Steroid'},\n",
    "            {'label': 'Free Agency (\\'77-\\'93)','value': 'Free Agency'},\n",
    "            {'label': 'Expantion (\\'61-\\'76)','value': 'Expantion'},\n",
    "            {'label': 'Integration (\\'42-\\'60)','value': 'Integration'},\n",
    "            {'label': 'Live Ball (\\'20-\\'41)','value': 'Live Ball'},\n",
    "            {'label': 'Dead Ball (\\'00-\\'19)','value': 'Dead Ball'},\n",
    "            {'label': 'Knickerbocker (\\'71-\\'99)','value': 'Knickerbocker'},]\n",
    "\n",
    "# Select Era\n",
    "player_era_select = 0\n",
    "player_era_list[player_era_select]"
   ]
  },
  {
   "cell_type": "code",
   "execution_count": 31,
   "metadata": {},
   "outputs": [
    {
     "data": {
      "text/plain": [
       "[{'label': 'AL', 'value': 'AL'}, {'label': 'NL', 'value': 'NL'}]"
      ]
     },
     "execution_count": 31,
     "metadata": {},
     "output_type": "execute_result"
    }
   ],
   "source": [
    "dynamicleagues(player_era_select)"
   ]
  },
  {
   "cell_type": "code",
   "execution_count": 32,
   "metadata": {},
   "outputs": [
    {
     "data": {
      "text/plain": [
       "[{'label': 'Arizona Diamondbacks', 'value': 'ARI'},\n",
       " {'label': 'Atlanta Braves', 'value': 'ATL'},\n",
       " {'label': 'Chicago Cubs', 'value': 'CHN'},\n",
       " {'label': 'Cincinnati Reds', 'value': 'CIN'},\n",
       " {'label': 'Colorado Rockies', 'value': 'COL'},\n",
       " {'label': 'Los Angeles Dodgers', 'value': 'LAN'},\n",
       " {'label': 'Miami Marlins', 'value': 'MIA'},\n",
       " {'label': 'Milwaukee Brewers', 'value': 'MIL'},\n",
       " {'label': 'New York Mets', 'value': 'NYN'},\n",
       " {'label': 'Philadelphia Phillies', 'value': 'PHI'},\n",
       " {'label': 'Pittsburgh Pirates', 'value': 'PIT'},\n",
       " {'label': 'San Diego Padres', 'value': 'SDN'},\n",
       " {'label': 'San Francisco Giants', 'value': 'SFN'},\n",
       " {'label': 'St. Louis Cardinals', 'value': 'SLN'},\n",
       " {'label': 'Washington Nationals', 'value': 'WAS'}]"
      ]
     },
     "execution_count": 32,
     "metadata": {},
     "output_type": "execute_result"
    }
   ],
   "source": [
    "# List of teams from the selected era, reusing the same function as earlier\n",
    "player_league_select = dynamicleagues(player_era_select)\n",
    "dynamicteams(player_league_select[1].get('value'), player_era_select)"
   ]
  },
  {
   "cell_type": "code",
   "execution_count": 33,
   "metadata": {},
   "outputs": [],
   "source": [
    "# Set team list\n",
    "player_team_list = dynamicteams(player_league_select[1].get('value'), player_era_select)"
   ]
  },
  {
   "cell_type": "code",
   "execution_count": 34,
   "metadata": {},
   "outputs": [
    {
     "data": {
      "text/plain": [
       "{'label': 'Atlanta Braves', 'value': 'ATL'}"
      ]
     },
     "execution_count": 34,
     "metadata": {},
     "output_type": "execute_result"
    }
   ],
   "source": [
    "# Select team, LOS ANGELES DODGERS selected\n",
    "player_team = player_team_list[1]\n",
    "player_team"
   ]
  },
  {
   "cell_type": "markdown",
   "metadata": {},
   "source": [
    "Now that the era and team have been selected the teams roster needs to be generated. In the past I generated the roster from here, however, that required the user to poor through a huge list of names. Here I have created functions similar to how the team list is created. So that the user can select from a shorter list, they will have to first select a year from within the selected era to determine which roster is presented."
   ]
  },
  {
   "cell_type": "code",
   "execution_count": 35,
   "metadata": {},
   "outputs": [],
   "source": [
    "# Creates a dynamic list of years based on era\n",
    "def dynamicyears(x):\n",
    "    # Hardcoded list of era time spans, wouldnt do it this way if the set where larger\n",
    "    global era_time\n",
    "    \n",
    "    # create a filter list of team names and ids\n",
    "    year_list = [i for i in np.arange(era_time[x][0],era_time[x][1]+1)]\n",
    "\n",
    "    # list comp of key value pair\n",
    "    return [{'label': k, 'value': v }for k, v in zip(year_list, year_list)]"
   ]
  },
  {
   "cell_type": "code",
   "execution_count": 36,
   "metadata": {},
   "outputs": [
    {
     "data": {
      "text/plain": [
       "[{'label': 2016, 'value': 2016},\n",
       " {'label': 2017, 'value': 2017},\n",
       " {'label': 2018, 'value': 2018},\n",
       " {'label': 2019, 'value': 2019},\n",
       " {'label': 2020, 'value': 2020},\n",
       " {'label': 2021, 'value': 2021},\n",
       " {'label': 2022, 'value': 2022}]"
      ]
     },
     "execution_count": 36,
     "metadata": {},
     "output_type": "execute_result"
    }
   ],
   "source": [
    "# List of years based on selected era\n",
    "dynamicyears(player_era_select)"
   ]
  },
  {
   "cell_type": "code",
   "execution_count": 37,
   "metadata": {},
   "outputs": [],
   "source": [
    "# Set list of years\n",
    "player_year_list = dynamicyears(player_era_select)"
   ]
  },
  {
   "cell_type": "code",
   "execution_count": 38,
   "metadata": {},
   "outputs": [
    {
     "data": {
      "text/plain": [
       "{'label': 2021, 'value': 2021}"
      ]
     },
     "execution_count": 38,
     "metadata": {},
     "output_type": "execute_result"
    }
   ],
   "source": [
    "# Select year from list, 2021 selected\n",
    "player_year_select = 5\n",
    "player_year = player_year_list[player_year_select]\n",
    "player_year"
   ]
  },
  {
   "cell_type": "code",
   "execution_count": 39,
   "metadata": {},
   "outputs": [],
   "source": [
    "# create a function to dynamicaly create a list of players based on team and year\n",
    "def dynamicplayers(team,year):\n",
    "    # query database for players name and id\n",
    "    player_list = pd.read_sql_query(f'''SELECT batter.playerID, IFNULL((player.nameFirst || ' ' || player.nameLast), batter.playerID) playerName\n",
    "                                FROM batting batter\n",
    "                                    LEFT JOIN people player ON player.playerID = batter.playerID\n",
    "                                WHERE batter.teamID = '{team.get('value')}' \n",
    "                                    AND batter.yearID = {year.get('value')}\n",
    "                                ORDER BY batter.playerID ASC;''',sqlite_con)\n",
    "    \n",
    "    # Return key value list of players names with id\n",
    "    return [{'label': k, 'value': v }for k, v in zip(player_list.playerName, player_list.playerID)]"
   ]
  },
  {
   "cell_type": "code",
   "execution_count": 40,
   "metadata": {},
   "outputs": [],
   "source": [
    "# Set roster of players from 2022 Houston Astros\n",
    "player_roster = dynamicplayers(player_team, player_year)\n",
    "\n",
    "if not player_roster:\n",
    "        # Hardcoded list of era names as key value pairs\n",
    "        player_roster = [{'label': None,'value': 'No Roster'}]"
   ]
  },
  {
   "cell_type": "code",
   "execution_count": 41,
   "metadata": {},
   "outputs": [
    {
     "data": {
      "text/plain": [
       "[{'label': 'Ronald Acuna', 'value': 'acunaro01'},\n",
       " {'label': 'Ehire Adrianza', 'value': 'adriaeh01'},\n",
       " {'label': 'Ozzie Albies', 'value': 'albieoz01'},\n",
       " {'label': 'Abraham Almonte', 'value': 'almonab01'},\n",
       " {'label': 'Ian Anderson', 'value': 'anderia01'},\n",
       " {'label': 'Orlando Arcia', 'value': 'arciaor01'},\n",
       " {'label': 'Jesse Biddle', 'value': 'biddlje01'},\n",
       " {'label': 'Johan Camargo', 'value': 'camarjo01'},\n",
       " {'label': 'Jesse Chavez', 'value': 'chaveje01'},\n",
       " {'label': 'William Contreras', 'value': 'contrwi02'},\n",
       " {'label': \"Travis d'Arnaud\", 'value': 'darnatr01'},\n",
       " {'label': 'Tucker Davidson', 'value': 'davidtu01'},\n",
       " {'label': 'Grant Dayton', 'value': 'daytogr01'},\n",
       " {'label': 'Adam Duvall', 'value': 'duvalad01'},\n",
       " {'label': 'Carl Edwards', 'value': 'edwarca01'},\n",
       " {'label': 'Jay Flaa', 'value': 'flaaja01'},\n",
       " {'label': 'Freddie Freeman', 'value': 'freemfr01'},\n",
       " {'label': 'Max Fried', 'value': 'friedma01'},\n",
       " {'label': 'Shane Greene', 'value': 'greensh02'},\n",
       " {'label': 'Guillermo Heredia', 'value': 'heredgu01'},\n",
       " {'label': 'Ender Inciarte', 'value': 'inciaen01'},\n",
       " {'label': 'Alex Jackson', 'value': 'jacksal02'},\n",
       " {'label': 'Luke Jackson', 'value': 'jackslu01'},\n",
       " {'label': 'Nate Jones', 'value': 'jonesna01'},\n",
       " {'label': 'Sean Kazmar', 'value': 'kazmase01'},\n",
       " {'label': 'Dylan Lee', 'value': 'leedy01'},\n",
       " {'label': 'Jonathan Lucroy', 'value': 'lucrojo01'},\n",
       " {'label': 'Chris Martin', 'value': 'martich02'},\n",
       " {'label': 'Jeff Mathis', 'value': 'mathije01'},\n",
       " {'label': 'Tyler Matzek', 'value': 'matzety01'},\n",
       " {'label': 'A. J. Minter', 'value': 'minteaj01'},\n",
       " {'label': 'Charlie Morton', 'value': 'mortoch02'},\n",
       " {'label': 'Kyle Muller', 'value': 'mulleky01'},\n",
       " {'label': 'Sean Newcomb', 'value': 'newcose01'},\n",
       " {'label': 'Marcell Ozuna', 'value': 'ozunama01'},\n",
       " {'label': 'Cristian Pache', 'value': 'pachecr01'},\n",
       " {'label': 'Joc Pederson', 'value': 'pederjo01'},\n",
       " {'label': 'Austin Riley', 'value': 'rileyau01'},\n",
       " {'label': 'Richard Rodriguez', 'value': 'rodriri05'},\n",
       " {'label': 'Eddie Rosario', 'value': 'rosared01'},\n",
       " {'label': 'Pablo Sandoval', 'value': 'sandopa01'},\n",
       " {'label': 'Edgar Santana', 'value': 'santaed01'},\n",
       " {'label': 'Kevan Smith', 'value': 'smithke04'},\n",
       " {'label': 'Will Smith', 'value': 'smithwi04'},\n",
       " {'label': 'Drew Smyly', 'value': 'smylydr01'},\n",
       " {'label': 'Jorge Soler', 'value': 'solerjo01'},\n",
       " {'label': 'Spencer Strider', 'value': 'stridsp01'},\n",
       " {'label': 'Dansby Swanson', 'value': 'swansda01'},\n",
       " {'label': 'Ty Tice', 'value': 'ticety01'},\n",
       " {'label': 'Josh Tomlin', 'value': 'tomlijo01'},\n",
       " {'label': 'Touki Toussaint', 'value': 'toussto01'},\n",
       " {'label': 'Stephen Vogt', 'value': 'vogtst01'},\n",
       " {'label': 'Jacob Webb', 'value': 'webbja01'},\n",
       " {'label': 'Bryse Wilson', 'value': 'wilsobr02'},\n",
       " {'label': 'Kyle Wright', 'value': 'wrighky01'},\n",
       " {'label': 'Huascar Ynoa', 'value': 'ynoahu01'}]"
      ]
     },
     "execution_count": 41,
     "metadata": {},
     "output_type": "execute_result"
    }
   ],
   "source": [
    "player_roster"
   ]
  },
  {
   "cell_type": "code",
   "execution_count": 42,
   "metadata": {},
   "outputs": [
    {
     "data": {
      "text/plain": [
       "{'label': 'Freddie Freeman', 'value': 'freemfr01'}"
      ]
     },
     "execution_count": 42,
     "metadata": {},
     "output_type": "execute_result"
    }
   ],
   "source": [
    "# Select desired player from roster\n",
    "player_roster_select = 16\n",
    "player_select = player_roster[player_roster_select]\n",
    "player_select"
   ]
  },
  {
   "cell_type": "markdown",
   "metadata": {},
   "source": [
    "### Basic Information\n",
    "\n",
    "Now that we selected our desired player, Mookie Betts from the 2021 Los Angeles Dodgers, lets retrieve some basic information about our player such as position played, debut, and how the player bats and throws. Since it will be important later, we will also need to calculate the age of the player. However, players who have passed away will need to have their age evaluated differently."
   ]
  },
  {
   "cell_type": "code",
   "execution_count": 43,
   "metadata": {},
   "outputs": [],
   "source": [
    "# Query the database for player name, date of birth and other information needed\n",
    "player_data = pd.read_sql_query(f'''SELECT DISTINCT player.nameFirst || ' ' || player.nameLast AS playerName, player.birth_date, player.bats, player.throws, fielder.pos, debut\n",
    "                                FROM people player\n",
    "                                    LEFT JOIN fielding fielder ON fielder.playerID = player.playerID\n",
    "                                WHERE player.playerID = '{player_select.get('value')}';''',sqlite_con)"
   ]
  },
  {
   "cell_type": "code",
   "execution_count": 44,
   "metadata": {},
   "outputs": [],
   "source": [
    "# So that we can properly and accurately calculate players ages\n",
    "# import datetime and timedelta\n",
    "from datetime import datetime, timedelta"
   ]
  },
  {
   "cell_type": "code",
   "execution_count": 45,
   "metadata": {},
   "outputs": [],
   "source": [
    "# set todays date\n",
    "today = datetime.today()"
   ]
  },
  {
   "cell_type": "code",
   "execution_count": 46,
   "metadata": {},
   "outputs": [],
   "source": [
    "# set selected players birthdate as a datetime timestamp\n",
    "player_birthdate = pd.to_datetime(player_data.birth_date)"
   ]
  },
  {
   "cell_type": "code",
   "execution_count": 47,
   "metadata": {},
   "outputs": [],
   "source": [
    "# using the timedelta, calculate the players proper age\n",
    "player_age = (today - player_birthdate)/timedelta(days=365)"
   ]
  },
  {
   "cell_type": "code",
   "execution_count": 48,
   "metadata": {},
   "outputs": [
    {
     "name": "stdout",
     "output_type": "stream",
     "text": [
      "Player Name: Freddie Freeman\n",
      "Player Current Age: 34\n",
      "Debut: 2010-09-01\n",
      "Bats/Throws: L/R\n",
      "Position: 1B\n",
      "Position: 3B\n"
     ]
    }
   ],
   "source": [
    "# Print basic information of selected player\n",
    "print(f'Player Name: {player_data.playerName[0]}')\n",
    "print(f'Player Current Age: {round(player_age[0])}')\n",
    "print(f'Debut: {player_data.debut[0]}')\n",
    "print(f'Bats/Throws: {player_data.bats[0]}/{player_data.throws[0]}')\n",
    "for position in player_data.POS: print(f'Position: {position}')"
   ]
  },
  {
   "cell_type": "markdown",
   "metadata": {},
   "source": [
    "### Analysis\n",
    "\n",
    "With the basic information taken care of, the player data can be retrieved and analyzed. We also need to be sure that the players position is included in the datatable since a single player may play multiple positions but may only play for one team or play on multiple teams but play at various positions. Remember the data that is selected is based on the Era and the year, a players career data will only reflect upto the selected year."
   ]
  },
  {
   "cell_type": "code",
   "execution_count": 49,
   "metadata": {},
   "outputs": [],
   "source": [
    "# Query database for player data\n",
    "player_career = pd.read_sql_query(f'''SELECT batter.yearID, batter.teamID, batter.lgID, batter.G, batter.AB, batter.R, batter.H, batter.\"2B\", batter.\"3B\", \n",
    "                                    batter.HR, batter.RBI, batter.SB, batter.CS, batter.BB, batter.SO, batter.IBB, batter.HBP, batter.SH, batter.SF, batter.GIDP\n",
    "                                FROM batting batter\n",
    "                                WHERE batter.playerID = '{player_select.get('value')}'\n",
    "                                    AND batter.yearID >= {era_time[player_era_select][0]} AND batter.yearID <= {player_year.get('value')}\n",
    "                                ORDER BY batter.yearID ASC;''',sqlite_con)"
   ]
  },
  {
   "cell_type": "code",
   "execution_count": 50,
   "metadata": {},
   "outputs": [
    {
     "data": {
      "text/html": [
       "<div>\n",
       "<style scoped>\n",
       "    .dataframe tbody tr th:only-of-type {\n",
       "        vertical-align: middle;\n",
       "    }\n",
       "\n",
       "    .dataframe tbody tr th {\n",
       "        vertical-align: top;\n",
       "    }\n",
       "\n",
       "    .dataframe thead th {\n",
       "        text-align: right;\n",
       "    }\n",
       "</style>\n",
       "<table border=\"1\" class=\"dataframe\">\n",
       "  <thead>\n",
       "    <tr style=\"text-align: right;\">\n",
       "      <th></th>\n",
       "      <th>yearID</th>\n",
       "      <th>teamID</th>\n",
       "      <th>lgID</th>\n",
       "      <th>G</th>\n",
       "      <th>AB</th>\n",
       "      <th>R</th>\n",
       "      <th>H</th>\n",
       "      <th>2B</th>\n",
       "      <th>3B</th>\n",
       "      <th>HR</th>\n",
       "      <th>RBI</th>\n",
       "      <th>SB</th>\n",
       "      <th>CS</th>\n",
       "      <th>BB</th>\n",
       "      <th>SO</th>\n",
       "      <th>IBB</th>\n",
       "      <th>HBP</th>\n",
       "      <th>SH</th>\n",
       "      <th>SF</th>\n",
       "      <th>GIDP</th>\n",
       "    </tr>\n",
       "  </thead>\n",
       "  <tbody>\n",
       "    <tr>\n",
       "      <th>0</th>\n",
       "      <td>2016</td>\n",
       "      <td>ATL</td>\n",
       "      <td>NL</td>\n",
       "      <td>158</td>\n",
       "      <td>589</td>\n",
       "      <td>102</td>\n",
       "      <td>178</td>\n",
       "      <td>43</td>\n",
       "      <td>6</td>\n",
       "      <td>34</td>\n",
       "      <td>91</td>\n",
       "      <td>6</td>\n",
       "      <td>1</td>\n",
       "      <td>89</td>\n",
       "      <td>171</td>\n",
       "      <td>18</td>\n",
       "      <td>10</td>\n",
       "      <td>0</td>\n",
       "      <td>5</td>\n",
       "      <td>12</td>\n",
       "    </tr>\n",
       "    <tr>\n",
       "      <th>1</th>\n",
       "      <td>2017</td>\n",
       "      <td>ATL</td>\n",
       "      <td>NL</td>\n",
       "      <td>117</td>\n",
       "      <td>440</td>\n",
       "      <td>84</td>\n",
       "      <td>135</td>\n",
       "      <td>35</td>\n",
       "      <td>2</td>\n",
       "      <td>28</td>\n",
       "      <td>71</td>\n",
       "      <td>8</td>\n",
       "      <td>5</td>\n",
       "      <td>65</td>\n",
       "      <td>95</td>\n",
       "      <td>14</td>\n",
       "      <td>7</td>\n",
       "      <td>0</td>\n",
       "      <td>2</td>\n",
       "      <td>9</td>\n",
       "    </tr>\n",
       "    <tr>\n",
       "      <th>2</th>\n",
       "      <td>2018</td>\n",
       "      <td>ATL</td>\n",
       "      <td>NL</td>\n",
       "      <td>162</td>\n",
       "      <td>618</td>\n",
       "      <td>94</td>\n",
       "      <td>191</td>\n",
       "      <td>44</td>\n",
       "      <td>4</td>\n",
       "      <td>23</td>\n",
       "      <td>98</td>\n",
       "      <td>10</td>\n",
       "      <td>3</td>\n",
       "      <td>76</td>\n",
       "      <td>132</td>\n",
       "      <td>12</td>\n",
       "      <td>7</td>\n",
       "      <td>0</td>\n",
       "      <td>6</td>\n",
       "      <td>11</td>\n",
       "    </tr>\n",
       "    <tr>\n",
       "      <th>3</th>\n",
       "      <td>2019</td>\n",
       "      <td>ATL</td>\n",
       "      <td>NL</td>\n",
       "      <td>158</td>\n",
       "      <td>597</td>\n",
       "      <td>113</td>\n",
       "      <td>176</td>\n",
       "      <td>34</td>\n",
       "      <td>2</td>\n",
       "      <td>38</td>\n",
       "      <td>121</td>\n",
       "      <td>6</td>\n",
       "      <td>3</td>\n",
       "      <td>87</td>\n",
       "      <td>127</td>\n",
       "      <td>11</td>\n",
       "      <td>6</td>\n",
       "      <td>0</td>\n",
       "      <td>2</td>\n",
       "      <td>17</td>\n",
       "    </tr>\n",
       "    <tr>\n",
       "      <th>4</th>\n",
       "      <td>2020</td>\n",
       "      <td>ATL</td>\n",
       "      <td>NL</td>\n",
       "      <td>60</td>\n",
       "      <td>214</td>\n",
       "      <td>51</td>\n",
       "      <td>73</td>\n",
       "      <td>23</td>\n",
       "      <td>1</td>\n",
       "      <td>13</td>\n",
       "      <td>53</td>\n",
       "      <td>2</td>\n",
       "      <td>0</td>\n",
       "      <td>45</td>\n",
       "      <td>37</td>\n",
       "      <td>7</td>\n",
       "      <td>3</td>\n",
       "      <td>0</td>\n",
       "      <td>0</td>\n",
       "      <td>6</td>\n",
       "    </tr>\n",
       "    <tr>\n",
       "      <th>5</th>\n",
       "      <td>2021</td>\n",
       "      <td>ATL</td>\n",
       "      <td>NL</td>\n",
       "      <td>159</td>\n",
       "      <td>600</td>\n",
       "      <td>120</td>\n",
       "      <td>180</td>\n",
       "      <td>25</td>\n",
       "      <td>2</td>\n",
       "      <td>31</td>\n",
       "      <td>83</td>\n",
       "      <td>8</td>\n",
       "      <td>3</td>\n",
       "      <td>85</td>\n",
       "      <td>107</td>\n",
       "      <td>15</td>\n",
       "      <td>8</td>\n",
       "      <td>0</td>\n",
       "      <td>2</td>\n",
       "      <td>11</td>\n",
       "    </tr>\n",
       "  </tbody>\n",
       "</table>\n",
       "</div>"
      ],
      "text/plain": [
       "   yearID teamID lgID    G   AB    R    H  2B  3B  HR  RBI  SB  CS  BB   SO  \\\n",
       "0    2016    ATL   NL  158  589  102  178  43   6  34   91   6   1  89  171   \n",
       "1    2017    ATL   NL  117  440   84  135  35   2  28   71   8   5  65   95   \n",
       "2    2018    ATL   NL  162  618   94  191  44   4  23   98  10   3  76  132   \n",
       "3    2019    ATL   NL  158  597  113  176  34   2  38  121   6   3  87  127   \n",
       "4    2020    ATL   NL   60  214   51   73  23   1  13   53   2   0  45   37   \n",
       "5    2021    ATL   NL  159  600  120  180  25   2  31   83   8   3  85  107   \n",
       "\n",
       "   IBB  HBP  SH  SF  GIDP  \n",
       "0   18   10   0   5    12  \n",
       "1   14    7   0   2     9  \n",
       "2   12    7   0   6    11  \n",
       "3   11    6   0   2    17  \n",
       "4    7    3   0   0     6  \n",
       "5   15    8   0   2    11  "
      ]
     },
     "execution_count": 50,
     "metadata": {},
     "output_type": "execute_result"
    }
   ],
   "source": [
    "# Freddie Freeman's career statistics during the Statcast Era 2016-2021\n",
    "player_career"
   ]
  },
  {
   "cell_type": "markdown",
   "metadata": {},
   "source": [
    "With the datatable, we can see the player was traded from Boston to LA in 2020 which may have contributed to the Dodgers rise in batting performance. Similar to teams analysis, a player can be compared to many other players in various ways. Below is a basic example of analyzing a players batting performance. The plot shows Mookie Betts's On-Base Plus Slugging (OPS), Slugging Average (SLG), and On-Base Percentage (OBP)."
   ]
  },
  {
   "cell_type": "code",
   "execution_count": 51,
   "metadata": {},
   "outputs": [
    {
     "data": {
      "image/png": "[encoded data removed]",
      "text/plain": [
       "<Figure size 640x480 with 1 Axes>"
      ]
     },
     "metadata": {},
     "output_type": "display_data"
    }
   ],
   "source": [
    "# set axis\n",
    "ax3 = plt.gca()\n",
    "\n",
    "# Using the filterd data from above set data variables\n",
    "# Years\n",
    "YR = player_career.yearID\n",
    "# Calculate singles\n",
    "Single = player_career.H - player_career['2B'] - player_career['3B'] - player_career.HR\n",
    "# Calculate On-Base Percentage\n",
    "OBP = (player_career.H + player_career.BB + player_career.HBP) / (player_career.AB + player_career.BB + player_career.HBP + player_career.SF)\n",
    "# Calculate Slugging average\n",
    "SLG = (Single + 2*player_career['2B'] + 3*player_career['3B'] + 4*player_career.HR)/player_career.AB\n",
    "# Calculate On-Base Plus Slugging\n",
    "OPS = OBP + SLG\n",
    "\n",
    "# Set graph data\n",
    "Data = {'YR': YR,\n",
    "        'OPS': OPS,\n",
    "        'OBP': OBP,\n",
    "        'SLG': SLG}\n",
    "\n",
    "# set new dataframe for graph\n",
    "df = pd.DataFrame(Data,columns=['YR','OPS','OBP','SLG'])\n",
    "# plot new dataframe\n",
    "df.plot.scatter(x='YR', y='OPS',ax=ax3,marker='s')\n",
    "df.plot.scatter(x='YR', y='SLG',ax=ax3,color='green')\n",
    "df.plot.scatter(x='YR', y='OBP',ax=ax3,color='orange')\n",
    "\n",
    "plt.show()"
   ]
  },
  {
   "cell_type": "code",
   "execution_count": 52,
   "metadata": {},
   "outputs": [],
   "source": [
    "# Since we are done, we must close the database connection.\n",
    "# Regardless of this being a notebook, its good practice.\n",
    "sqlite_con.close()"
   ]
  },
  {
   "cell_type": "markdown",
   "metadata": {},
   "source": [
    "We can see that Mookie Betts's batting performance has remained strong and consistent which makes him a perspective team leader and significant contributor to a teams performance. While comparative analysis can be beneficial to selecting players for a trade. There are more advanced ways to compare a desired player against perspective competition, which may be addressed at a later time. Additionally current player career evaluation and projections can be included, however, projections will be handled in a separate notebook."
   ]
  },
  {
   "cell_type": "markdown",
   "metadata": {},
   "source": [
    "## Conclusion\n",
    "\n",
    "We can see that players and teams can be evaluated using a combination of SQL queries and Pandas. This notebook updated the methods and functions needed to pursue an analytically driven application. The visualizations and data shown in this notebook will be used to create an application using Plotly Dash, analyzing team and player data from across Major League Baseball's history."
   ]
  }
 ],
 "metadata": {
  "kernelspec": {
   "display_name": "Python 3 (ipykernel)",
   "language": "python",
   "name": "python3"
  },
  "language_info": {
   "codemirror_mode": {
    "name": "ipython",
    "version": 3
   },
   "file_extension": ".py",
   "mimetype": "text/x-python",
   "name": "python",
   "nbconvert_exporter": "python",
   "pygments_lexer": "ipython3",
   "version": "3.8.16"
  }
 },
 "nbformat": 4,
 "nbformat_minor": 4
}
